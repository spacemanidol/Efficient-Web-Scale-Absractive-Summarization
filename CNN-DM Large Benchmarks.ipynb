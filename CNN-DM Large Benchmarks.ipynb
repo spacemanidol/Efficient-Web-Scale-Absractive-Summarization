{
 "cells": [
  {
   "cell_type": "code",
   "execution_count": 2,
   "id": "92f1111d",
   "metadata": {},
   "outputs": [
    {
     "name": "stderr",
     "output_type": "stream",
     "text": [
      "Reusing dataset cnn_dailymail (/root/.cache/huggingface/datasets/cnn_dailymail/3.0.0/3.0.0/1b3c71476f6d152c31c1730e83ccb08bcf23e348233f4fcc11e182248e6bf7de)\n"
     ]
    },
    {
     "data": {
      "application/vnd.jupyter.widget-view+json": {
       "model_id": "ff54da6eaef146778d68b734493324bc",
       "version_major": 2,
       "version_minor": 0
      },
      "text/plain": [
       "  0%|          | 0/3 [00:00<?, ?it/s]"
      ]
     },
     "metadata": {},
     "output_type": "display_data"
    },
    {
     "name": "stdout",
     "output_type": "stream",
     "text": [
      "['(CNN)The Palestinian Authority officially became the 123rd member of the International Criminal Court on Wednesday, a step that gives the court jurisdiction over alleged crimes in Palestinian territories. The formal accession was marked with a ceremony at The Hague, in the Netherlands, where the court is based. The Palestinians signed the ICC\\'s founding Rome Statute in January, when they also accepted its jurisdiction over alleged crimes committed \"in the occupied Palestinian territory, including East Jerusalem, since June 13, 2014.\" Later that month, the ICC opened a preliminary examination into the situation in Palestinian territories, paving the way for possible war crimes investigations against Israelis. As members of the court, Palestinians may be subject to counter-charges as well. Israel and the United States, neither of which is an ICC member, opposed the Palestinians\\' efforts to join the body. But Palestinian Foreign Minister Riad al-Malki, speaking at Wednesday\\'s ceremony, said it was a move toward greater justice. \"As Palestine formally becomes a State Party to the Rome Statute today, the world is also a step closer to ending a long era of impunity and injustice,\" he said, according to an ICC news release. \"Indeed, today brings us closer to our shared goals of justice and peace.\" Judge Kuniko Ozaki, a vice president of the ICC, said acceding to the treaty was just the first step for the Palestinians. \"As the Rome Statute today enters into force for the State of Palestine, Palestine acquires all the rights as well as responsibilities that come with being a State Party to the Statute. These are substantive commitments, which cannot be taken lightly,\" she said. Rights group Human Rights Watch welcomed the development. \"Governments seeking to penalize Palestine for joining the ICC should immediately end their pressure, and countries that support universal acceptance of the court\\'s treaty should speak out to welcome its membership,\" said Balkees Jarrah, international justice counsel for the group. \"What\\'s objectionable is the attempts to undermine international justice, not Palestine\\'s decision to join a treaty to which over 100 countries around the world are members.\" In January, when the preliminary ICC examination was opened, Israeli Prime Minister Benjamin Netanyahu described it as an outrage, saying the court was overstepping its boundaries. The United States also said it \"strongly\" disagreed with the court\\'s decision. \"As we have said repeatedly, we do not believe that Palestine is a state and therefore we do not believe that it is eligible to join the ICC,\" the State Department said in a statement. It urged the warring sides to resolve their differences through direct negotiations. \"We will continue to oppose actions against Israel at the ICC as counterproductive to the cause of peace,\" it said. But the ICC begs to differ with the definition of a state for its purposes and refers to the territories as \"Palestine.\" While a preliminary examination is not a formal investigation, it allows the court to review evidence and determine whether to investigate suspects on both sides. Prosecutor Fatou Bensouda said her office would \"conduct its analysis in full independence and impartiality.\" The war between Israel and Hamas militants in Gaza last summer left more than 2,000 people dead. The inquiry will include alleged war crimes committed since June. The International Criminal Court was set up in 2002 to prosecute genocide, crimes against humanity and war crimes. CNN\\'s Vasco Cotovio, Kareem Khadder and Faith Karimi contributed to this report.']\n",
      "['Membership gives the ICC jurisdiction over alleged crimes committed in Palestinian territories since last June .\\nIsrael and the United States opposed the move, which could open the door to war crimes investigations against Israelis .']\n"
     ]
    }
   ],
   "source": [
    "import datasets\n",
    "from transformers import AutoModelForSeq2SeqLM, AutoTokenizer\n",
    "\n",
    "\n",
    "tokenizer = AutoTokenizer.from_pretrained('spacemanidol/flan-t5-small-6-5-cnndm')\n",
    "dataset = datasets.load_dataset('cnn_dailymail','3.0.0')\n",
    "\n",
    "samples16 = dataset['test']['article'][0:16]\n",
    "samples8 = dataset['test']['article'][0:8]\n",
    "samples1 = dataset['test']['article'][0:1]\n",
    "print(dataset['test']['article'][0:1])\n",
    "print(dataset['test']['highlights'][0:1])\n",
    "input_ids_16 = tokenizer(samples16, return_tensors=\"pt\", padding=True, truncation=True, max_length=1024).input_ids.to('cuda')\n",
    "input_ids_8 = tokenizer(samples8, return_tensors=\"pt\", padding=True, truncation=True, max_length=1024).input_ids.to('cuda')\n",
    "input_ids_1 = tokenizer(samples1, return_tensors=\"pt\", padding=True, truncation=True, max_length=1024).input_ids.to('cuda')"
   ]
  },
  {
   "cell_type": "markdown",
   "id": "1bd3c370",
   "metadata": {},
   "source": [
    "Small Models"
   ]
  },
  {
   "cell_type": "code",
   "execution_count": 2,
   "id": "17dfbb8f",
   "metadata": {},
   "outputs": [
    {
     "name": "stdout",
     "output_type": "stream",
     "text": [
      "cnn-6-5\n",
      "<pad> The Palestinian Authority officially becomes the 123rd member of the International Criminal Court. The\n",
      "300 ms ± 954 µs per loop (mean ± std. dev. of 7 runs, 1 loop each)\n",
      "211 ms ± 425 µs per loop (mean ± std. dev. of 7 runs, 1 loop each)\n",
      "133 ms ± 292 µs per loop (mean ± std. dev. of 7 runs, 10 loops each)\n"
     ]
    }
   ],
   "source": [
    "print(\"cnn-6-5\")\n",
    "model = AutoModelForSeq2SeqLM.from_pretrained('spacemanidol/flan-t5-small-6-5-cnndm').to('cuda')\n",
    "outputs = model.generate(input_ids_1)\n",
    "print(tokenizer.decode(outputs[0]))\n",
    "%timeit model.generate(input_ids_16)\n",
    "%timeit model.generate(input_ids_8)\n",
    "%timeit model.generate(input_ids_1)"
   ]
  },
  {
   "cell_type": "code",
   "execution_count": 3,
   "id": "021e96e4",
   "metadata": {},
   "outputs": [
    {
     "name": "stdout",
     "output_type": "stream",
     "text": [
      "cnn-6-4\n",
      "<pad> The Palestinian Authority officially becomes the 123rd member of the International Criminal Court. The\n",
      "279 ms ± 537 µs per loop (mean ± std. dev. of 7 runs, 1 loop each)\n",
      "193 ms ± 448 µs per loop (mean ± std. dev. of 7 runs, 10 loops each)\n",
      "116 ms ± 196 µs per loop (mean ± std. dev. of 7 runs, 10 loops each)\n"
     ]
    }
   ],
   "source": [
    "print(\"cnn-6-4\")\n",
    "model = AutoModelForSeq2SeqLM.from_pretrained('spacemanidol/flan-t5-small-6-4-cnndm').to('cuda')\n",
    "outputs = model.generate(input_ids_1)\n",
    "print(tokenizer.decode(outputs[0]))\n",
    "%timeit model.generate(input_ids_16)\n",
    "%timeit model.generate(input_ids_8)\n",
    "%timeit model.generate(input_ids_1)"
   ]
  },
  {
   "cell_type": "code",
   "execution_count": 5,
   "id": "859c7749",
   "metadata": {},
   "outputs": [
    {
     "name": "stdout",
     "output_type": "stream",
     "text": [
      "cnn-6-3\n",
      "<pad> NEW: Palestinian Authority officially becomes 123rd member of International Criminal Court. The \n",
      "259 ms ± 424 µs per loop (mean ± std. dev. of 7 runs, 1 loop each)\n",
      "174 ms ± 153 µs per loop (mean ± std. dev. of 7 runs, 10 loops each)\n",
      "98.1 ms ± 242 µs per loop (mean ± std. dev. of 7 runs, 10 loops each)\n"
     ]
    }
   ],
   "source": [
    "print(\"cnn-6-3\")\n",
    "model = AutoModelForSeq2SeqLM.from_pretrained('spacemanidol/flan-t5-small-6-3-cnndm').to('cuda')\n",
    "outputs = model.generate(input_ids_1)\n",
    "print(tokenizer.decode(outputs[0]))\n",
    "%timeit model.generate(input_ids_16)\n",
    "%timeit model.generate(input_ids_8)\n",
    "%timeit model.generate(input_ids_1)"
   ]
  },
  {
   "cell_type": "code",
   "execution_count": 6,
   "id": "faf63e58",
   "metadata": {},
   "outputs": [
    {
     "name": "stdout",
     "output_type": "stream",
     "text": [
      "cnn-6-2\n"
     ]
    },
    {
     "data": {
      "application/vnd.jupyter.widget-view+json": {
       "model_id": "1f6d295be4604b5bb36d4214acd44add",
       "version_major": 2,
       "version_minor": 0
      },
      "text/plain": [
       "Downloading:   0%|          | 0.00/1.49k [00:00<?, ?B/s]"
      ]
     },
     "metadata": {},
     "output_type": "display_data"
    },
    {
     "data": {
      "application/vnd.jupyter.widget-view+json": {
       "model_id": "b5752e3dd6484fd1b235f66605629743",
       "version_major": 2,
       "version_minor": 0
      },
      "text/plain": [
       "Downloading:   0%|          | 0.00/222M [00:00<?, ?B/s]"
      ]
     },
     "metadata": {},
     "output_type": "display_data"
    },
    {
     "name": "stdout",
     "output_type": "stream",
     "text": [
      "<pad> Palestinian Authority officially became 123rd member of International Criminal Court. Palestinians signed Rome\n",
      "218 ms ± 303 µs per loop (mean ± std. dev. of 7 runs, 1 loop each)\n",
      "137 ms ± 100 µs per loop (mean ± std. dev. of 7 runs, 10 loops each)\n",
      "63.2 ms ± 207 µs per loop (mean ± std. dev. of 7 runs, 10 loops each)\n"
     ]
    }
   ],
   "source": [
    "print(\"cnn-6-2\")\n",
    "model = AutoModelForSeq2SeqLM.from_pretrained('spacemanidol/flan-t5-small-6-2-cnndm').to('cuda')\n",
    "outputs = model.generate(input_ids_1)\n",
    "print(tokenizer.decode(outputs[0]))\n",
    "%timeit model.generate(input_ids_16)\n",
    "%timeit model.generate(input_ids_8)\n",
    "%timeit model.generate(input_ids_1)"
   ]
  },
  {
   "cell_type": "code",
   "execution_count": 7,
   "id": "63efbd98",
   "metadata": {},
   "outputs": [
    {
     "name": "stdout",
     "output_type": "stream",
     "text": [
      "cnn-6-1\n"
     ]
    },
    {
     "data": {
      "application/vnd.jupyter.widget-view+json": {
       "model_id": "d8947a0fd9114317a4788d3e5735dce1",
       "version_major": 2,
       "version_minor": 0
      },
      "text/plain": [
       "Downloading:   0%|          | 0.00/1.49k [00:00<?, ?B/s]"
      ]
     },
     "metadata": {},
     "output_type": "display_data"
    },
    {
     "data": {
      "application/vnd.jupyter.widget-view+json": {
       "model_id": "02b21dfa35334c42a349b3a44ce9622b",
       "version_major": 2,
       "version_minor": 0
      },
      "text/plain": [
       "Downloading:   0%|          | 0.00/210M [00:00<?, ?B/s]"
      ]
     },
     "metadata": {},
     "output_type": "display_data"
    },
    {
     "name": "stdout",
     "output_type": "stream",
     "text": [
      "<pad> Palestinian Authority officially became the 123rd member of the International Criminal Court. The Palestinian\n",
      "198 ms ± 148 µs per loop (mean ± std. dev. of 7 runs, 10 loops each)\n",
      "118 ms ± 82.7 µs per loop (mean ± std. dev. of 7 runs, 10 loops each)\n",
      "45.7 ms ± 106 µs per loop (mean ± std. dev. of 7 runs, 10 loops each)\n"
     ]
    }
   ],
   "source": [
    "print(\"cnn-6-1\")\n",
    "model = AutoModelForSeq2SeqLM.from_pretrained('spacemanidol/flan-t5-small-6-1-cnndm').to('cuda')\n",
    "outputs = model.generate(input_ids_1)\n",
    "print(tokenizer.decode(outputs[0]))\n",
    "%timeit model.generate(input_ids_16)\n",
    "%timeit model.generate(input_ids_8)\n",
    "%timeit model.generate(input_ids_1)"
   ]
  },
  {
   "cell_type": "code",
   "execution_count": 8,
   "id": "150eb5e8",
   "metadata": {},
   "outputs": [
    {
     "name": "stdout",
     "output_type": "stream",
     "text": [
      "cnn-5-6\n"
     ]
    },
    {
     "data": {
      "application/vnd.jupyter.widget-view+json": {
       "model_id": "3a7089b434944502bcc4251283d4f03a",
       "version_major": 2,
       "version_minor": 0
      },
      "text/plain": [
       "Downloading:   0%|          | 0.00/1.49k [00:00<?, ?B/s]"
      ]
     },
     "metadata": {},
     "output_type": "display_data"
    },
    {
     "data": {
      "application/vnd.jupyter.widget-view+json": {
       "model_id": "a4b060081fef4dbfb6cbd452b0d76571",
       "version_major": 2,
       "version_minor": 0
      },
      "text/plain": [
       "Downloading:   0%|          | 0.00/276M [00:00<?, ?B/s]"
      ]
     },
     "metadata": {},
     "output_type": "display_data"
    },
    {
     "name": "stdout",
     "output_type": "stream",
     "text": [
      "<pad> The Palestinian Authority officially becomes the 123rd member of the International Criminal Court. The\n",
      "303 ms ± 1.06 ms per loop (mean ± std. dev. of 7 runs, 1 loop each)\n",
      "230 ms ± 1.42 ms per loop (mean ± std. dev. of 7 runs, 1 loop each)\n",
      "166 ms ± 303 µs per loop (mean ± std. dev. of 7 runs, 10 loops each)\n"
     ]
    }
   ],
   "source": [
    "print(\"cnn-5-6\")\n",
    "model = AutoModelForSeq2SeqLM.from_pretrained('spacemanidol/flan-t5-small-5-6-cnndm').to('cuda')\n",
    "outputs = model.generate(input_ids_1)\n",
    "print(tokenizer.decode(outputs[0]))\n",
    "%timeit model.generate(input_ids_16)\n",
    "%timeit model.generate(input_ids_8)\n",
    "%timeit model.generate(input_ids_1)"
   ]
  },
  {
   "cell_type": "code",
   "execution_count": 9,
   "id": "a2827fd0",
   "metadata": {},
   "outputs": [
    {
     "name": "stdout",
     "output_type": "stream",
     "text": [
      "cnn-4-6\n"
     ]
    },
    {
     "data": {
      "application/vnd.jupyter.widget-view+json": {
       "model_id": "9394af2232f3433cb676b83363353d3f",
       "version_major": 2,
       "version_minor": 0
      },
      "text/plain": [
       "Downloading:   0%|          | 0.00/1.49k [00:00<?, ?B/s]"
      ]
     },
     "metadata": {},
     "output_type": "display_data"
    },
    {
     "data": {
      "application/vnd.jupyter.widget-view+json": {
       "model_id": "9b1736a62409440d86f0ebce78d944e0",
       "version_major": 2,
       "version_minor": 0
      },
      "text/plain": [
       "Downloading:   0%|          | 0.00/267M [00:00<?, ?B/s]"
      ]
     },
     "metadata": {},
     "output_type": "display_data"
    },
    {
     "name": "stdout",
     "output_type": "stream",
     "text": [
      "<pad> The ICC officially becomes the 123rd member of the International Criminal Court. The\n",
      "283 ms ± 1.13 ms per loop (mean ± std. dev. of 7 runs, 1 loop each)\n",
      "219 ms ± 521 µs per loop (mean ± std. dev. of 7 runs, 1 loop each)\n",
      "165 ms ± 267 µs per loop (mean ± std. dev. of 7 runs, 10 loops each)\n"
     ]
    }
   ],
   "source": [
    "print(\"cnn-4-6\")\n",
    "model = AutoModelForSeq2SeqLM.from_pretrained('spacemanidol/flan-t5-small-4-6-cnndm').to('cuda')\n",
    "outputs = model.generate(input_ids_1)\n",
    "print(tokenizer.decode(outputs[0]))\n",
    "%timeit model.generate(input_ids_16)\n",
    "%timeit model.generate(input_ids_8)\n",
    "%timeit model.generate(input_ids_1)"
   ]
  },
  {
   "cell_type": "code",
   "execution_count": 10,
   "id": "30bd157e",
   "metadata": {},
   "outputs": [
    {
     "name": "stdout",
     "output_type": "stream",
     "text": [
      "cnn-3-6\n"
     ]
    },
    {
     "data": {
      "application/vnd.jupyter.widget-view+json": {
       "model_id": "a5ac0e12fddb4540888e1298c67e666e",
       "version_major": 2,
       "version_minor": 0
      },
      "text/plain": [
       "Downloading:   0%|          | 0.00/1.49k [00:00<?, ?B/s]"
      ]
     },
     "metadata": {},
     "output_type": "display_data"
    },
    {
     "data": {
      "application/vnd.jupyter.widget-view+json": {
       "model_id": "bb9acad7b3cb416aa2e61ee8826e3bf1",
       "version_major": 2,
       "version_minor": 0
      },
      "text/plain": [
       "Downloading:   0%|          | 0.00/258M [00:00<?, ?B/s]"
      ]
     },
     "metadata": {},
     "output_type": "display_data"
    },
    {
     "name": "stdout",
     "output_type": "stream",
     "text": [
      "<pad> The ICC officially becomes the 123rd member of the International Criminal Court. The\n",
      "265 ms ± 1.65 ms per loop (mean ± std. dev. of 7 runs, 1 loop each)\n",
      "211 ms ± 890 µs per loop (mean ± std. dev. of 7 runs, 1 loop each)\n",
      "164 ms ± 185 µs per loop (mean ± std. dev. of 7 runs, 10 loops each)\n"
     ]
    }
   ],
   "source": [
    "print(\"cnn-3-6\")\n",
    "model = AutoModelForSeq2SeqLM.from_pretrained('spacemanidol/flan-t5-small-3-6-cnndm').to('cuda')\n",
    "outputs = model.generate(input_ids_1)\n",
    "print(tokenizer.decode(outputs[0]))\n",
    "%timeit model.generate(input_ids_16)\n",
    "%timeit model.generate(input_ids_8)\n",
    "%timeit model.generate(input_ids_1)"
   ]
  },
  {
   "cell_type": "code",
   "execution_count": 12,
   "id": "ccd825d2",
   "metadata": {},
   "outputs": [
    {
     "name": "stdout",
     "output_type": "stream",
     "text": [
      "cnn-2-6\n"
     ]
    },
    {
     "data": {
      "application/vnd.jupyter.widget-view+json": {
       "model_id": "81acf6a2653a4726836a147bb1bf0fd0",
       "version_major": 2,
       "version_minor": 0
      },
      "text/plain": [
       "Downloading:   0%|          | 0.00/1.49k [00:00<?, ?B/s]"
      ]
     },
     "metadata": {},
     "output_type": "display_data"
    },
    {
     "data": {
      "application/vnd.jupyter.widget-view+json": {
       "model_id": "47366e74fd344884bd9d2a2b32aee76e",
       "version_major": 2,
       "version_minor": 0
      },
      "text/plain": [
       "Downloading:   0%|          | 0.00/240M [00:00<?, ?B/s]"
      ]
     },
     "metadata": {},
     "output_type": "display_data"
    },
    {
     "name": "stdout",
     "output_type": "stream",
     "text": [
      "<pad> 123rd member of International Criminal Court on Wednesday. ICC says it is \n",
      "226 ms ± 625 µs per loop (mean ± std. dev. of 7 runs, 1 loop each)\n",
      "191 ms ± 332 µs per loop (mean ± std. dev. of 7 runs, 10 loops each)\n",
      "162 ms ± 351 µs per loop (mean ± std. dev. of 7 runs, 10 loops each)\n"
     ]
    }
   ],
   "source": [
    "print(\"cnn-2-6\")\n",
    "model = AutoModelForSeq2SeqLM.from_pretrained('spacemanidol/flan-t5-small-2-6-cnndm').to('cuda')\n",
    "outputs = model.generate(input_ids_1)\n",
    "print(tokenizer.decode(outputs[0]))\n",
    "%timeit model.generate(input_ids_16)\n",
    "%timeit model.generate(input_ids_8)\n",
    "%timeit model.generate(input_ids_1)"
   ]
  },
  {
   "cell_type": "code",
   "execution_count": 11,
   "id": "87d59c75",
   "metadata": {},
   "outputs": [
    {
     "name": "stdout",
     "output_type": "stream",
     "text": [
      "cnn-1-6\n"
     ]
    },
    {
     "data": {
      "application/vnd.jupyter.widget-view+json": {
       "model_id": "5e913cdcd8f5429eb1160f7aa9033d66",
       "version_major": 2,
       "version_minor": 0
      },
      "text/plain": [
       "Downloading:   0%|          | 0.00/1.49k [00:00<?, ?B/s]"
      ]
     },
     "metadata": {},
     "output_type": "display_data"
    },
    {
     "data": {
      "application/vnd.jupyter.widget-view+json": {
       "model_id": "e5a1dbb6036a47eca1dc75bfedbbd99a",
       "version_major": 2,
       "version_minor": 0
      },
      "text/plain": [
       "Downloading:   0%|          | 0.00/231M [00:00<?, ?B/s]"
      ]
     },
     "metadata": {},
     "output_type": "display_data"
    },
    {
     "name": "stdout",
     "output_type": "stream",
     "text": [
      "<pad> NEW: ICC says it is a step closer to ending a long era of\n",
      "206 ms ± 550 µs per loop (mean ± std. dev. of 7 runs, 1 loop each)\n",
      "180 ms ± 423 µs per loop (mean ± std. dev. of 7 runs, 10 loops each)\n",
      "161 ms ± 626 µs per loop (mean ± std. dev. of 7 runs, 10 loops each)\n"
     ]
    }
   ],
   "source": [
    "print(\"cnn-1-6\")\n",
    "model = AutoModelForSeq2SeqLM.from_pretrained('spacemanidol/flan-t5-small-1-6-cnndm').to('cuda')\n",
    "outputs = model.generate(input_ids_1)\n",
    "print(tokenizer.decode(outputs[0]))\n",
    "%timeit model.generate(input_ids_16)\n",
    "%timeit model.generate(input_ids_8)\n",
    "%timeit model.generate(input_ids_1)"
   ]
  },
  {
   "cell_type": "code",
   "execution_count": 13,
   "id": "80173b2a",
   "metadata": {},
   "outputs": [
    {
     "name": "stdout",
     "output_type": "stream",
     "text": [
      "cnn-5-5\n"
     ]
    },
    {
     "data": {
      "application/vnd.jupyter.widget-view+json": {
       "model_id": "40153532cc1845ef85d64736c0cd1378",
       "version_major": 2,
       "version_minor": 0
      },
      "text/plain": [
       "Downloading:   0%|          | 0.00/1.49k [00:00<?, ?B/s]"
      ]
     },
     "metadata": {},
     "output_type": "display_data"
    },
    {
     "data": {
      "application/vnd.jupyter.widget-view+json": {
       "model_id": "bead61a3c2064cb4856c7a35c9308063",
       "version_major": 2,
       "version_minor": 0
      },
      "text/plain": [
       "Downloading:   0%|          | 0.00/252M [00:00<?, ?B/s]"
      ]
     },
     "metadata": {},
     "output_type": "display_data"
    },
    {
     "name": "stdout",
     "output_type": "stream",
     "text": [
      "<pad> The ICC officially becomes the 123rd member of the International Criminal Court. The\n",
      "261 ms ± 768 µs per loop (mean ± std. dev. of 7 runs, 1 loop each)\n",
      "192 ms ± 247 µs per loop (mean ± std. dev. of 7 runs, 10 loops each)\n",
      "131 ms ± 617 µs per loop (mean ± std. dev. of 7 runs, 10 loops each)\n"
     ]
    }
   ],
   "source": [
    "print(\"cnn-5-5\")\n",
    "model = AutoModelForSeq2SeqLM.from_pretrained('spacemanidol/flan-t5-small-5-5-cnndm').to('cuda')\n",
    "outputs = model.generate(input_ids_1)\n",
    "print(tokenizer.decode(outputs[0]))\n",
    "%timeit model.generate(input_ids_16)\n",
    "%timeit model.generate(input_ids_8)\n",
    "%timeit model.generate(input_ids_1)"
   ]
  },
  {
   "cell_type": "code",
   "execution_count": 14,
   "id": "be6dd441",
   "metadata": {},
   "outputs": [
    {
     "name": "stdout",
     "output_type": "stream",
     "text": [
      "cnn-4-4\n"
     ]
    },
    {
     "data": {
      "application/vnd.jupyter.widget-view+json": {
       "model_id": "cdd7dc02b52e4d0b9c9eafcd4a046614",
       "version_major": 2,
       "version_minor": 0
      },
      "text/plain": [
       "Downloading:   0%|          | 0.00/1.50k [00:00<?, ?B/s]"
      ]
     },
     "metadata": {},
     "output_type": "display_data"
    },
    {
     "data": {
      "application/vnd.jupyter.widget-view+json": {
       "model_id": "a019d8d37b7d47f482bf040cd2cc81ff",
       "version_major": 2,
       "version_minor": 0
      },
      "text/plain": [
       "Downloading:   0%|          | 0.00/231M [00:00<?, ?B/s]"
      ]
     },
     "metadata": {},
     "output_type": "display_data"
    },
    {
     "name": "stdout",
     "output_type": "stream",
     "text": [
      "<pad> The ICC officially becomes the 123rd member of the International Criminal Court. The\n",
      "222 ms ± 1.36 ms per loop (mean ± std. dev. of 7 runs, 1 loop each)\n",
      "164 ms ± 642 µs per loop (mean ± std. dev. of 7 runs, 10 loops each)\n",
      "113 ms ± 306 µs per loop (mean ± std. dev. of 7 runs, 10 loops each)\n"
     ]
    }
   ],
   "source": [
    "print(\"cnn-4-4\")\n",
    "model = AutoModelForSeq2SeqLM.from_pretrained('spacemanidol/flan-t5-small-4-4-cnndm').to('cuda')\n",
    "outputs = model.generate(input_ids_1)\n",
    "print(tokenizer.decode(outputs[0]))\n",
    "%timeit model.generate(input_ids_16)\n",
    "%timeit model.generate(input_ids_8)\n",
    "%timeit model.generate(input_ids_1)"
   ]
  },
  {
   "cell_type": "code",
   "execution_count": 15,
   "id": "4c3dc467",
   "metadata": {},
   "outputs": [
    {
     "name": "stdout",
     "output_type": "stream",
     "text": [
      "cnn-3-3\n"
     ]
    },
    {
     "data": {
      "application/vnd.jupyter.widget-view+json": {
       "model_id": "d1162c50813946b68146e866c3a57bea",
       "version_major": 2,
       "version_minor": 0
      },
      "text/plain": [
       "Downloading:   0%|          | 0.00/1.49k [00:00<?, ?B/s]"
      ]
     },
     "metadata": {},
     "output_type": "display_data"
    },
    {
     "data": {
      "application/vnd.jupyter.widget-view+json": {
       "model_id": "08f9743b080a4d1197f30a2b5a2bdd5b",
       "version_major": 2,
       "version_minor": 0
      },
      "text/plain": [
       "Downloading:   0%|          | 0.00/210M [00:00<?, ?B/s]"
      ]
     },
     "metadata": {},
     "output_type": "display_data"
    },
    {
     "name": "stdout",
     "output_type": "stream",
     "text": [
      "<pad> ICC's founding Rome Statute in January opened a preliminary examination. The \n",
      "182 ms ± 268 µs per loop (mean ± std. dev. of 7 runs, 10 loops each)\n",
      "135 ms ± 210 µs per loop (mean ± std. dev. of 7 runs, 10 loops each)\n",
      "95.1 ms ± 95.5 µs per loop (mean ± std. dev. of 7 runs, 10 loops each)\n"
     ]
    }
   ],
   "source": [
    "print(\"cnn-3-3\")\n",
    "model = AutoModelForSeq2SeqLM.from_pretrained('spacemanidol/flan-t5-small-3-3-cnndm').to('cuda')\n",
    "outputs = model.generate(input_ids_1)\n",
    "print(tokenizer.decode(outputs[0]))\n",
    "%timeit model.generate(input_ids_16)\n",
    "%timeit model.generate(input_ids_8)\n",
    "%timeit model.generate(input_ids_1)"
   ]
  },
  {
   "cell_type": "code",
   "execution_count": 16,
   "id": "5e892cff",
   "metadata": {},
   "outputs": [
    {
     "name": "stdout",
     "output_type": "stream",
     "text": [
      "cnn-2-2\n"
     ]
    },
    {
     "data": {
      "application/vnd.jupyter.widget-view+json": {
       "model_id": "e3f9a7f0ca654520beb6483cdba3708b",
       "version_major": 2,
       "version_minor": 0
      },
      "text/plain": [
       "Downloading:   0%|          | 0.00/1.49k [00:00<?, ?B/s]"
      ]
     },
     "metadata": {},
     "output_type": "display_data"
    },
    {
     "data": {
      "application/vnd.jupyter.widget-view+json": {
       "model_id": "50c1b74e0683405b9aa703bed7d4582f",
       "version_major": 2,
       "version_minor": 0
      },
      "text/plain": [
       "Downloading:   0%|          | 0.00/168M [00:00<?, ?B/s]"
      ]
     },
     "metadata": {},
     "output_type": "display_data"
    },
    {
     "name": "stdout",
     "output_type": "stream",
     "text": [
      "<pad> Palestinian Authority officially became the 123rd member of the International Criminal Court on Wednesday.\n",
      "103 ms ± 238 µs per loop (mean ± std. dev. of 7 runs, 10 loops each)\n",
      "78.9 ms ± 78 µs per loop (mean ± std. dev. of 7 runs, 10 loops each)\n",
      "57.8 ms ± 270 µs per loop (mean ± std. dev. of 7 runs, 10 loops each)\n"
     ]
    }
   ],
   "source": [
    "print(\"cnn-2-2\")\n",
    "model = AutoModelForSeq2SeqLM.from_pretrained('spacemanidol/flan-t5-small-2-2-cnndm').to('cuda')\n",
    "outputs = model.generate(input_ids_1)\n",
    "print(tokenizer.decode(outputs[0]))\n",
    "%timeit model.generate(input_ids_16)\n",
    "%timeit model.generate(input_ids_8)\n",
    "%timeit model.generate(input_ids_1)"
   ]
  },
  {
   "cell_type": "code",
   "execution_count": 17,
   "id": "fdd55df3",
   "metadata": {},
   "outputs": [
    {
     "name": "stdout",
     "output_type": "stream",
     "text": [
      "cnn-1-1\n"
     ]
    },
    {
     "data": {
      "application/vnd.jupyter.widget-view+json": {
       "model_id": "52fa4e6a4f7e4eb8ab402b573e132a1f",
       "version_major": 2,
       "version_minor": 0
      },
      "text/plain": [
       "Downloading:   0%|          | 0.00/1.49k [00:00<?, ?B/s]"
      ]
     },
     "metadata": {},
     "output_type": "display_data"
    },
    {
     "data": {
      "application/vnd.jupyter.widget-view+json": {
       "model_id": "61f0a43126444833a8a7ba89efce6152",
       "version_major": 2,
       "version_minor": 0
      },
      "text/plain": [
       "Downloading:   0%|          | 0.00/147M [00:00<?, ?B/s]"
      ]
     },
     "metadata": {},
     "output_type": "display_data"
    },
    {
     "name": "stdout",
     "output_type": "stream",
     "text": [
      "<pad> Palestinian Authority has been a member of the International Criminal Court. The ICC has been\n",
      "63.4 ms ± 84.5 µs per loop (mean ± std. dev. of 7 runs, 10 loops each)\n",
      "50.2 ms ± 132 µs per loop (mean ± std. dev. of 7 runs, 10 loops each)\n",
      "39.1 ms ± 136 µs per loop (mean ± std. dev. of 7 runs, 10 loops each)\n"
     ]
    }
   ],
   "source": [
    "print(\"cnn-1-1\")\n",
    "model = AutoModelForSeq2SeqLM.from_pretrained('spacemanidol/flan-t5-small-1-1-cnndm').to('cuda')\n",
    "outputs = model.generate(input_ids_1)\n",
    "print(tokenizer.decode(outputs[0]))\n",
    "%timeit model.generate(input_ids_16)\n",
    "%timeit model.generate(input_ids_8)\n",
    "%timeit model.generate(input_ids_1)"
   ]
  },
  {
   "cell_type": "code",
   "execution_count": null,
   "id": "5224d7ac",
   "metadata": {},
   "outputs": [],
   "source": []
  }
 ],
 "metadata": {
  "kernelspec": {
   "display_name": "Python 3 (ipykernel)",
   "language": "python",
   "name": "python3"
  },
  "language_info": {
   "codemirror_mode": {
    "name": "ipython",
    "version": 3
   },
   "file_extension": ".py",
   "mimetype": "text/x-python",
   "name": "python",
   "nbconvert_exporter": "python",
   "pygments_lexer": "ipython3",
   "version": "3.8.13"
  }
 },
 "nbformat": 4,
 "nbformat_minor": 5
}
