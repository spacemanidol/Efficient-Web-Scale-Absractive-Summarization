{
 "cells": [
  {
   "cell_type": "code",
   "execution_count": 3,
   "id": "f96144e7",
   "metadata": {},
   "outputs": [
    {
     "name": "stderr",
     "output_type": "stream",
     "text": [
      "Found cached dataset xsum (/home/ubuntu/.cache/huggingface/datasets/xsum/default/1.2.0/082863bf4754ee058a5b6f6525d0cb2b18eadb62c7b370b095d1364050a52b71)\n"
     ]
    },
    {
     "data": {
      "application/vnd.jupyter.widget-view+json": {
       "model_id": "67633ea5e6a74df4ab0cf325fde16629",
       "version_major": 2,
       "version_minor": 0
      },
      "text/plain": [
       "  0%|          | 0/3 [00:00<?, ?it/s]"
      ]
     },
     "metadata": {},
     "output_type": "display_data"
    },
    {
     "name": "stdout",
     "output_type": "stream",
     "text": [
      "['Prison Link Cymru had 1,099 referrals in 2015-16 and said some ex-offenders were living rough for up to a year before finding suitable accommodation.\\nWorkers at the charity claim investment in housing would be cheaper than jailing homeless repeat offenders.\\nThe Welsh Government said more people than ever were getting help to address housing problems.\\nChanges to the Housing Act in Wales, introduced in 2015, removed the right for prison leavers to be given priority for accommodation.\\nPrison Link Cymru, which helps people find accommodation after their release, said things were generally good for women because issues such as children or domestic violence were now considered.\\nHowever, the same could not be said for men, the charity said, because issues which often affect them, such as post traumatic stress disorder or drug dependency, were often viewed as less of a priority.\\nAndrew Stevens, who works in Welsh prisons trying to secure housing for prison leavers, said the need for accommodation was \"chronic\".\\n\"There\\'s a desperate need for it, finding suitable accommodation for those leaving prison there is just a lack of it everywhere,\" he said.\\n\"It could take six months to a year, without a lot of help they could be on the streets for six months.\\n\"When you think of the consequences of either being on the street, especially with the cold weather at the moment or you may have a roof over your head, sometimes there is only one choice.\"\\nMr Stevens believes building more one-bedroom flats could help ease the problem.\\n\"The average price is a hundred pounds a week to keep someone in a rented flat, prison is a lot more than that so I would imagine it would save the public purse quite a few pounds,\" he said.\\nOfficial figures show 830 one-bedroom properties were built in the year to March 2016, of an overall total of 6,900 new properties in Wales.\\nMarc, 50, who has been in and out of prison for the past 20 years for burglary offences, said he struggled to find accommodation each time he was released.\\nHe said he would ask himself: \"Where am I going to stay? Where am I going to live? Have I got somewhere where I can see my daughter.\"\\n\"You\\'re put out among the same sort of people doing the same sort of thing, and it\\'s difficult, it\\'s difficult to get away from it. It\\'s like every man for himself, there\\'s nothing.\"\\nMarc has now found stable accommodation with homeless charity Emmaus and said it had been life changing.\\n\"You feel safe, you got hot food, you\\'ve got company of people in similar situations to yourself but all dealing with different issues. It\\'s a constructive, helpful atmosphere,\" he said.\\nTom Clarke, chief executive of Emmaus South Wales, agreed there was not enough support available.\\n\"We do still see [people] homeless on the streets, so clearly they haven\\'t got accommodation and haven\\'t got provision,\" he said.\\n\"I think the key is connecting people with the services they need. I don\\'t delude myself that Emmaus can offer a one size fits all for everyone, we can\\'t.\\n\"But there must be other opportunities and given suitable encouragement I believe that can and should happen.\"\\nA Welsh Government spokesman said the national pathway for homeless services to children, young people and adults in the secure estate had prevented many people from losing their home whilst serving their prison sentence.\\nIt added there were already significant demands for one-bedroom flats across the public and private sector and it was providing 20,000 new affordable homes in the next five years.']\n",
      "['There is a \"chronic\" need for more housing for prison leavers in Wales, according to a charity.']\n"
     ]
    }
   ],
   "source": [
    "import datasets\n",
    "from transformers import AutoModelForSeq2SeqLM, AutoTokenizer\n",
    "\n",
    "\n",
    "tokenizer = AutoTokenizer.from_pretrained('spacemanidol/flan-t5-large-xsum')\n",
    "dataset = datasets.load_dataset('xsum')\n",
    "\n",
    "samples16 = dataset['test']['document'][0:16]\n",
    "samples8 = dataset['test']['document'][0:8]\n",
    "samples1 = dataset['test']['document'][0:1]\n",
    "print(dataset['test']['document'][0:1])\n",
    "print(dataset['test']['summary'][0:1])\n",
    "input_ids_16 = tokenizer(samples16, return_tensors=\"pt\", padding=True, truncation=True, max_length=1024).input_ids.to('cuda')\n",
    "input_ids_8 = tokenizer(samples8, return_tensors=\"pt\", padding=True, truncation=True, max_length=1024).input_ids.to('cuda')\n",
    "input_ids_1 = tokenizer(samples1, return_tensors=\"pt\", padding=True, truncation=True, max_length=1024).input_ids.to('cuda')"
   ]
  },
  {
   "cell_type": "markdown",
   "id": "26787d10",
   "metadata": {},
   "source": [
    "large Models"
   ]
  },
  {
   "cell_type": "code",
   "execution_count": 4,
   "id": "b9c49654",
   "metadata": {},
   "outputs": [
    {
     "name": "stdout",
     "output_type": "stream",
     "text": [
      "xsum-6-6\n"
     ]
    },
    {
     "data": {
      "application/vnd.jupyter.widget-view+json": {
       "model_id": "1ed58979db644b80a00abc22e3fe21e4",
       "version_major": 2,
       "version_minor": 0
      },
      "text/plain": [
       "Downloading (…)lve/main/config.json:   0%|          | 0.00/792 [00:00<?, ?B/s]"
      ]
     },
     "metadata": {},
     "output_type": "display_data"
    },
    {
     "data": {
      "application/vnd.jupyter.widget-view+json": {
       "model_id": "ef57d790819e414d8eb11ed4e2b7008b",
       "version_major": 2,
       "version_minor": 0
      },
      "text/plain": [
       "Downloading pytorch_model.bin:   0%|          | 0.00/3.13G [00:00<?, ?B/s]"
      ]
     },
     "metadata": {},
     "output_type": "display_data"
    },
    {
     "data": {
      "application/vnd.jupyter.widget-view+json": {
       "model_id": "e42584fecfd24ea388bc95538ea6a9d1",
       "version_major": 2,
       "version_minor": 0
      },
      "text/plain": [
       "Downloading (…)neration_config.json:   0%|          | 0.00/147 [00:00<?, ?B/s]"
      ]
     },
     "metadata": {},
     "output_type": "display_data"
    },
    {
     "name": "stderr",
     "output_type": "stream",
     "text": [
      "/home/ubuntu/.local/lib/python3.8/site-packages/transformers/generation/utils.py:1288: UserWarning: Using `max_length`'s default (20) to control the generation length. This behaviour is deprecated and will be removed from the config in v5 of Transformers -- we recommend using `max_new_tokens` to control the maximum length of the generation.\n",
      "  warnings.warn(\n"
     ]
    },
    {
     "name": "stdout",
     "output_type": "stream",
     "text": [
      "<pad> Prison leavers in Wales are facing a \"desperate need\" for housing after\n"
     ]
    },
    {
     "name": "stderr",
     "output_type": "stream",
     "text": [
      "/home/ubuntu/.local/lib/python3.8/site-packages/transformers/generation/utils.py:1288: UserWarning: Using `max_length`'s default (20) to control the generation length. This behaviour is deprecated and will be removed from the config in v5 of Transformers -- we recommend using `max_new_tokens` to control the maximum length of the generation.\n",
      "  warnings.warn(\n"
     ]
    },
    {
     "name": "stdout",
     "output_type": "stream",
     "text": [
      "2.7 s ± 16.1 ms per loop (mean ± std. dev. of 7 runs, 1 loop each)\n",
      "1.48 s ± 23 ms per loop (mean ± std. dev. of 7 runs, 1 loop each)\n",
      "447 ms ± 19.4 ms per loop (mean ± std. dev. of 7 runs, 1 loop each)\n"
     ]
    }
   ],
   "source": [
    "print(\"xsum-6-6\")\n",
    "model = AutoModelForSeq2SeqLM.from_pretrained('spacemanidol/flan-t5-large-xsum').to('cuda')\n",
    "outputs = model.generate(input_ids_1)\n",
    "print(tokenizer.decode(outputs[0]))\n",
    "%timeit model.generate(input_ids_16)\n",
    "%timeit model.generate(input_ids_8)\n",
    "%timeit model.generate(input_ids_1)"
   ]
  },
  {
   "cell_type": "code",
   "execution_count": 5,
   "id": "506b7d3e",
   "metadata": {},
   "outputs": [
    {
     "name": "stdout",
     "output_type": "stream",
     "text": [
      "xsum-6-5\n"
     ]
    },
    {
     "data": {
      "application/vnd.jupyter.widget-view+json": {
       "model_id": "b810777ea56e4e1284e0c7fd8f3cd34c",
       "version_major": 2,
       "version_minor": 0
      },
      "text/plain": [
       "Downloading (…)lve/main/config.json:   0%|          | 0.00/784 [00:00<?, ?B/s]"
      ]
     },
     "metadata": {},
     "output_type": "display_data"
    },
    {
     "data": {
      "application/vnd.jupyter.widget-view+json": {
       "model_id": "d7fbb999c0be4191af075d1d9645d2db",
       "version_major": 2,
       "version_minor": 0
      },
      "text/plain": [
       "Downloading pytorch_model.bin:   0%|          | 0.00/2.86G [00:00<?, ?B/s]"
      ]
     },
     "metadata": {},
     "output_type": "display_data"
    },
    {
     "data": {
      "application/vnd.jupyter.widget-view+json": {
       "model_id": "68399990c9494306895296559f4df348",
       "version_major": 2,
       "version_minor": 0
      },
      "text/plain": [
       "Downloading (…)neration_config.json:   0%|          | 0.00/147 [00:00<?, ?B/s]"
      ]
     },
     "metadata": {},
     "output_type": "display_data"
    },
    {
     "name": "stdout",
     "output_type": "stream",
     "text": [
      "<pad> Ex-offenders are being left homeless because of a lack of accommodation, a charity\n",
      "2.58 s ± 7.52 ms per loop (mean ± std. dev. of 7 runs, 1 loop each)\n",
      "1.41 s ± 17.5 ms per loop (mean ± std. dev. of 7 runs, 1 loop each)\n",
      "374 ms ± 4.84 ms per loop (mean ± std. dev. of 7 runs, 1 loop each)\n"
     ]
    }
   ],
   "source": [
    "print(\"xsum-6-5\")\n",
    "model = AutoModelForSeq2SeqLM.from_pretrained('spacemanidol/flan-t5-large-6-5-xsum').to('cuda')\n",
    "outputs = model.generate(input_ids_1)\n",
    "print(tokenizer.decode(outputs[0]))\n",
    "%timeit model.generate(input_ids_16)\n",
    "%timeit model.generate(input_ids_8)\n",
    "%timeit model.generate(input_ids_1)"
   ]
  },
  {
   "cell_type": "code",
   "execution_count": 6,
   "id": "56fadf95",
   "metadata": {},
   "outputs": [
    {
     "name": "stdout",
     "output_type": "stream",
     "text": [
      "xsum-6-4\n"
     ]
    },
    {
     "data": {
      "application/vnd.jupyter.widget-view+json": {
       "model_id": "d769a20a133143e3b49fc9eb6a99f87d",
       "version_major": 2,
       "version_minor": 0
      },
      "text/plain": [
       "Downloading (…)lve/main/config.json:   0%|          | 0.00/784 [00:00<?, ?B/s]"
      ]
     },
     "metadata": {},
     "output_type": "display_data"
    },
    {
     "data": {
      "application/vnd.jupyter.widget-view+json": {
       "model_id": "1fc215083a1441ec9305fbe50c4e2a15",
       "version_major": 2,
       "version_minor": 0
      },
      "text/plain": [
       "Downloading pytorch_model.bin:   0%|          | 0.00/2.59G [00:00<?, ?B/s]"
      ]
     },
     "metadata": {},
     "output_type": "display_data"
    },
    {
     "data": {
      "application/vnd.jupyter.widget-view+json": {
       "model_id": "0e301cbae0ef4dff98fcdd9d4bdb47d0",
       "version_major": 2,
       "version_minor": 0
      },
      "text/plain": [
       "Downloading (…)neration_config.json:   0%|          | 0.00/147 [00:00<?, ?B/s]"
      ]
     },
     "metadata": {},
     "output_type": "display_data"
    },
    {
     "name": "stdout",
     "output_type": "stream",
     "text": [
      "<pad> Ex-offenders are being left homeless because of a \"desperate need\" for\n",
      "2.46 s ± 7.19 ms per loop (mean ± std. dev. of 7 runs, 1 loop each)\n",
      "1.32 s ± 8.18 ms per loop (mean ± std. dev. of 7 runs, 1 loop each)\n",
      "327 ms ± 19.4 ms per loop (mean ± std. dev. of 7 runs, 1 loop each)\n"
     ]
    }
   ],
   "source": [
    "print(\"xsum-6-4\")\n",
    "model = AutoModelForSeq2SeqLM.from_pretrained('spacemanidol/flan-t5-large-6-4-xsum').to('cuda')\n",
    "outputs = model.generate(input_ids_1)\n",
    "print(tokenizer.decode(outputs[0]))\n",
    "%timeit model.generate(input_ids_16)\n",
    "%timeit model.generate(input_ids_8)\n",
    "%timeit model.generate(input_ids_1)"
   ]
  },
  {
   "cell_type": "code",
   "execution_count": 7,
   "id": "818b22de",
   "metadata": {},
   "outputs": [
    {
     "name": "stdout",
     "output_type": "stream",
     "text": [
      "xsum-6-3\n"
     ]
    },
    {
     "data": {
      "application/vnd.jupyter.widget-view+json": {
       "model_id": "6d32563dd5b94156b8ac653eed85dedc",
       "version_major": 2,
       "version_minor": 0
      },
      "text/plain": [
       "Downloading (…)lve/main/config.json:   0%|          | 0.00/784 [00:00<?, ?B/s]"
      ]
     },
     "metadata": {},
     "output_type": "display_data"
    },
    {
     "data": {
      "application/vnd.jupyter.widget-view+json": {
       "model_id": "1b844eb54d3048ba8aff4dc53ffdd165",
       "version_major": 2,
       "version_minor": 0
      },
      "text/plain": [
       "Downloading pytorch_model.bin:   0%|          | 0.00/2.31G [00:00<?, ?B/s]"
      ]
     },
     "metadata": {},
     "output_type": "display_data"
    },
    {
     "data": {
      "application/vnd.jupyter.widget-view+json": {
       "model_id": "2d1951fbc92a4371b6f1005cecc52622",
       "version_major": 2,
       "version_minor": 0
      },
      "text/plain": [
       "Downloading (…)neration_config.json:   0%|          | 0.00/147 [00:00<?, ?B/s]"
      ]
     },
     "metadata": {},
     "output_type": "display_data"
    },
    {
     "name": "stdout",
     "output_type": "stream",
     "text": [
      "<pad> Ex-offenders are being left homeless after being released from prison, a charity has said\n",
      "2.34 s ± 7.5 ms per loop (mean ± std. dev. of 7 runs, 1 loop each)\n",
      "1.24 s ± 7.06 ms per loop (mean ± std. dev. of 7 runs, 1 loop each)\n",
      "272 ms ± 7.91 ms per loop (mean ± std. dev. of 7 runs, 1 loop each)\n"
     ]
    }
   ],
   "source": [
    "print(\"xsum-6-3\")\n",
    "model = AutoModelForSeq2SeqLM.from_pretrained('spacemanidol/flan-t5-large-6-3-xsum').to('cuda')\n",
    "outputs = model.generate(input_ids_1)\n",
    "print(tokenizer.decode(outputs[0]))\n",
    "%timeit model.generate(input_ids_16)\n",
    "%timeit model.generate(input_ids_8)\n",
    "%timeit model.generate(input_ids_1)"
   ]
  },
  {
   "cell_type": "code",
   "execution_count": 8,
   "id": "6d857be0",
   "metadata": {},
   "outputs": [
    {
     "name": "stdout",
     "output_type": "stream",
     "text": [
      "xsum-6-2\n"
     ]
    },
    {
     "data": {
      "application/vnd.jupyter.widget-view+json": {
       "model_id": "10b3e72da2734b54892637b21e3b1300",
       "version_major": 2,
       "version_minor": 0
      },
      "text/plain": [
       "Downloading (…)lve/main/config.json:   0%|          | 0.00/783 [00:00<?, ?B/s]"
      ]
     },
     "metadata": {},
     "output_type": "display_data"
    },
    {
     "data": {
      "application/vnd.jupyter.widget-view+json": {
       "model_id": "22f5fd29a42c4299a8bb8eae119ac0bf",
       "version_major": 2,
       "version_minor": 0
      },
      "text/plain": [
       "Downloading pytorch_model.bin:   0%|          | 0.00/2.04G [00:00<?, ?B/s]"
      ]
     },
     "metadata": {},
     "output_type": "display_data"
    },
    {
     "data": {
      "application/vnd.jupyter.widget-view+json": {
       "model_id": "10c3b4578e36431ba3597970c92b2050",
       "version_major": 2,
       "version_minor": 0
      },
      "text/plain": [
       "Downloading (…)neration_config.json:   0%|          | 0.00/147 [00:00<?, ?B/s]"
      ]
     },
     "metadata": {},
     "output_type": "display_data"
    },
    {
     "name": "stdout",
     "output_type": "stream",
     "text": [
      "<pad> A charity which helps homeless people leaving prison has said it is \"desperate\" to find\n",
      "2.21 s ± 6.49 ms per loop (mean ± std. dev. of 7 runs, 1 loop each)\n",
      "1.17 s ± 11.4 ms per loop (mean ± std. dev. of 7 runs, 1 loop each)\n",
      "216 ms ± 7.81 ms per loop (mean ± std. dev. of 7 runs, 1 loop each)\n"
     ]
    }
   ],
   "source": [
    "print(\"xsum-6-2\")\n",
    "model = AutoModelForSeq2SeqLM.from_pretrained('spacemanidol/flan-t5-large-6-2-xsum').to('cuda')\n",
    "outputs = model.generate(input_ids_1)\n",
    "print(tokenizer.decode(outputs[0]))\n",
    "%timeit model.generate(input_ids_16)\n",
    "%timeit model.generate(input_ids_8)\n",
    "%timeit model.generate(input_ids_1)"
   ]
  },
  {
   "cell_type": "code",
   "execution_count": 9,
   "id": "a1703615",
   "metadata": {},
   "outputs": [
    {
     "name": "stdout",
     "output_type": "stream",
     "text": [
      "xsum-6-1\n"
     ]
    },
    {
     "data": {
      "application/vnd.jupyter.widget-view+json": {
       "model_id": "d13d0b45d0434be69be36ee940a9ef82",
       "version_major": 2,
       "version_minor": 0
      },
      "text/plain": [
       "Downloading (…)lve/main/config.json:   0%|          | 0.00/783 [00:00<?, ?B/s]"
      ]
     },
     "metadata": {},
     "output_type": "display_data"
    },
    {
     "data": {
      "application/vnd.jupyter.widget-view+json": {
       "model_id": "af776b9ed9734655803a5115abff6d15",
       "version_major": 2,
       "version_minor": 0
      },
      "text/plain": [
       "Downloading pytorch_model.bin:   0%|          | 0.00/1.77G [00:00<?, ?B/s]"
      ]
     },
     "metadata": {},
     "output_type": "display_data"
    },
    {
     "data": {
      "application/vnd.jupyter.widget-view+json": {
       "model_id": "76b535d069b74ea586934bd0f0c905cd",
       "version_major": 2,
       "version_minor": 0
      },
      "text/plain": [
       "Downloading (…)neration_config.json:   0%|          | 0.00/147 [00:00<?, ?B/s]"
      ]
     },
     "metadata": {},
     "output_type": "display_data"
    },
    {
     "name": "stdout",
     "output_type": "stream",
     "text": [
      "<pad> More homeless people in Wales are being referred to homeless people in the past year, a\n",
      "2.08 s ± 7.17 ms per loop (mean ± std. dev. of 7 runs, 1 loop each)\n",
      "1.09 s ± 3.66 ms per loop (mean ± std. dev. of 7 runs, 1 loop each)\n",
      "165 ms ± 3.11 ms per loop (mean ± std. dev. of 7 runs, 10 loops each)\n"
     ]
    }
   ],
   "source": [
    "print(\"xsum-6-1\")\n",
    "model = AutoModelForSeq2SeqLM.from_pretrained('spacemanidol/flan-t5-large-6-1-xsum').to('cuda')\n",
    "outputs = model.generate(input_ids_1)\n",
    "print(tokenizer.decode(outputs[0]))\n",
    "%timeit model.generate(input_ids_16)\n",
    "%timeit model.generate(input_ids_8)\n",
    "%timeit model.generate(input_ids_1)"
   ]
  },
  {
   "cell_type": "code",
   "execution_count": 10,
   "id": "b5305040",
   "metadata": {},
   "outputs": [
    {
     "name": "stdout",
     "output_type": "stream",
     "text": [
      "xsum-5-6\n"
     ]
    },
    {
     "data": {
      "application/vnd.jupyter.widget-view+json": {
       "model_id": "6ae5517b667b4f95b81639a4f942da97",
       "version_major": 2,
       "version_minor": 0
      },
      "text/plain": [
       "Downloading (…)lve/main/config.json:   0%|          | 0.00/784 [00:00<?, ?B/s]"
      ]
     },
     "metadata": {},
     "output_type": "display_data"
    },
    {
     "data": {
      "application/vnd.jupyter.widget-view+json": {
       "model_id": "af8d4409ea734466a35284cf912d31ff",
       "version_major": 2,
       "version_minor": 0
      },
      "text/plain": [
       "Downloading pytorch_model.bin:   0%|          | 0.00/2.93G [00:00<?, ?B/s]"
      ]
     },
     "metadata": {},
     "output_type": "display_data"
    },
    {
     "data": {
      "application/vnd.jupyter.widget-view+json": {
       "model_id": "2865805e102a438894aaa47c64b33fff",
       "version_major": 2,
       "version_minor": 0
      },
      "text/plain": [
       "Downloading (…)neration_config.json:   0%|          | 0.00/147 [00:00<?, ?B/s]"
      ]
     },
     "metadata": {},
     "output_type": "display_data"
    },
    {
     "name": "stdout",
     "output_type": "stream",
     "text": [
      "<pad> Ex-offenders are being left homeless on the streets of Wales because of a lack of\n",
      "2.39 s ± 7.76 ms per loop (mean ± std. dev. of 7 runs, 1 loop each)\n",
      "1.31 s ± 11.5 ms per loop (mean ± std. dev. of 7 runs, 1 loop each)\n",
      "406 ms ± 21.5 ms per loop (mean ± std. dev. of 7 runs, 1 loop each)\n"
     ]
    }
   ],
   "source": [
    "print(\"xsum-5-6\")\n",
    "model = AutoModelForSeq2SeqLM.from_pretrained('spacemanidol/flan-t5-large-5-6-xsum').to('cuda')\n",
    "outputs = model.generate(input_ids_1)\n",
    "print(tokenizer.decode(outputs[0]))\n",
    "%timeit model.generate(input_ids_16)\n",
    "%timeit model.generate(input_ids_8)\n",
    "%timeit model.generate(input_ids_1)"
   ]
  },
  {
   "cell_type": "code",
   "execution_count": 11,
   "id": "f06581b3",
   "metadata": {},
   "outputs": [
    {
     "name": "stdout",
     "output_type": "stream",
     "text": [
      "xsum-4-6\n"
     ]
    },
    {
     "data": {
      "application/vnd.jupyter.widget-view+json": {
       "model_id": "24d2d1e3f2ed46158d34007714f1d1bf",
       "version_major": 2,
       "version_minor": 0
      },
      "text/plain": [
       "Downloading (…)lve/main/config.json:   0%|          | 0.00/784 [00:00<?, ?B/s]"
      ]
     },
     "metadata": {},
     "output_type": "display_data"
    },
    {
     "data": {
      "application/vnd.jupyter.widget-view+json": {
       "model_id": "9f2187f56dae4b1981d79c730aba482b",
       "version_major": 2,
       "version_minor": 0
      },
      "text/plain": [
       "Downloading pytorch_model.bin:   0%|          | 0.00/2.72G [00:00<?, ?B/s]"
      ]
     },
     "metadata": {},
     "output_type": "display_data"
    },
    {
     "data": {
      "application/vnd.jupyter.widget-view+json": {
       "model_id": "e21fc6666b404053969ddccfad47f0b1",
       "version_major": 2,
       "version_minor": 0
      },
      "text/plain": [
       "Downloading (…)neration_config.json:   0%|          | 0.00/147 [00:00<?, ?B/s]"
      ]
     },
     "metadata": {},
     "output_type": "display_data"
    },
    {
     "name": "stdout",
     "output_type": "stream",
     "text": [
      "<pad> Ex-offenders are being left homeless on the streets because of a lack of suitable accommodation\n",
      "2.08 s ± 7.01 ms per loop (mean ± std. dev. of 7 runs, 1 loop each)\n",
      "1.14 s ± 6.88 ms per loop (mean ± std. dev. of 7 runs, 1 loop each)\n",
      "412 ms ± 20.3 ms per loop (mean ± std. dev. of 7 runs, 1 loop each)\n"
     ]
    }
   ],
   "source": [
    "print(\"xsum-4-6\")\n",
    "model = AutoModelForSeq2SeqLM.from_pretrained('spacemanidol/flan-t5-large-4-6-xsum').to('cuda')\n",
    "outputs = model.generate(input_ids_1)\n",
    "print(tokenizer.decode(outputs[0]))\n",
    "%timeit model.generate(input_ids_16)\n",
    "%timeit model.generate(input_ids_8)\n",
    "%timeit model.generate(input_ids_1)"
   ]
  },
  {
   "cell_type": "code",
   "execution_count": 12,
   "id": "9f75bdad",
   "metadata": {},
   "outputs": [
    {
     "name": "stdout",
     "output_type": "stream",
     "text": [
      "xsum-3-6\n"
     ]
    },
    {
     "data": {
      "application/vnd.jupyter.widget-view+json": {
       "model_id": "adcbd04d88fb40118bea66df797bd87b",
       "version_major": 2,
       "version_minor": 0
      },
      "text/plain": [
       "Downloading (…)lve/main/config.json:   0%|          | 0.00/776 [00:00<?, ?B/s]"
      ]
     },
     "metadata": {},
     "output_type": "display_data"
    },
    {
     "data": {
      "application/vnd.jupyter.widget-view+json": {
       "model_id": "a2aa23e57c9e424b988db8bf4b200efd",
       "version_major": 2,
       "version_minor": 0
      },
      "text/plain": [
       "Downloading pytorch_model.bin:   0%|          | 0.00/2.52G [00:00<?, ?B/s]"
      ]
     },
     "metadata": {},
     "output_type": "display_data"
    },
    {
     "data": {
      "application/vnd.jupyter.widget-view+json": {
       "model_id": "2e8c0828c3df4390b6d3c95acfe8b195",
       "version_major": 2,
       "version_minor": 0
      },
      "text/plain": [
       "Downloading (…)neration_config.json:   0%|          | 0.00/147 [00:00<?, ?B/s]"
      ]
     },
     "metadata": {},
     "output_type": "display_data"
    },
    {
     "name": "stdout",
     "output_type": "stream",
     "text": [
      "<pad> A charity has said there is a \"desperate need\" for more one-bedroom\n",
      "1.75 s ± 6.86 ms per loop (mean ± std. dev. of 7 runs, 1 loop each)\n",
      "986 ms ± 11 ms per loop (mean ± std. dev. of 7 runs, 1 loop each)\n",
      "384 ms ± 18.8 ms per loop (mean ± std. dev. of 7 runs, 1 loop each)\n"
     ]
    }
   ],
   "source": [
    "print(\"xsum-3-6\")\n",
    "model = AutoModelForSeq2SeqLM.from_pretrained('spacemanidol/flan-t5-large-3-6-xsum').to('cuda')\n",
    "outputs = model.generate(input_ids_1)\n",
    "print(tokenizer.decode(outputs[0]))\n",
    "%timeit model.generate(input_ids_16)\n",
    "%timeit model.generate(input_ids_8)\n",
    "%timeit model.generate(input_ids_1)"
   ]
  },
  {
   "cell_type": "code",
   "execution_count": 13,
   "id": "252b1234",
   "metadata": {},
   "outputs": [
    {
     "name": "stdout",
     "output_type": "stream",
     "text": [
      "xsum-2-6\n"
     ]
    },
    {
     "data": {
      "application/vnd.jupyter.widget-view+json": {
       "model_id": "38c472eab9fa4abd81a7c68d3aa8ab01",
       "version_major": 2,
       "version_minor": 0
      },
      "text/plain": [
       "Downloading (…)lve/main/config.json:   0%|          | 0.00/783 [00:00<?, ?B/s]"
      ]
     },
     "metadata": {},
     "output_type": "display_data"
    },
    {
     "data": {
      "application/vnd.jupyter.widget-view+json": {
       "model_id": "6cd64c1151354315840d3b4dd34c0e68",
       "version_major": 2,
       "version_minor": 0
      },
      "text/plain": [
       "Downloading pytorch_model.bin:   0%|          | 0.00/2.31G [00:00<?, ?B/s]"
      ]
     },
     "metadata": {},
     "output_type": "display_data"
    },
    {
     "data": {
      "application/vnd.jupyter.widget-view+json": {
       "model_id": "b9e56bed26dd4c3ca9228a50a880f271",
       "version_major": 2,
       "version_minor": 0
      },
      "text/plain": [
       "Downloading (…)neration_config.json:   0%|          | 0.00/147 [00:00<?, ?B/s]"
      ]
     },
     "metadata": {},
     "output_type": "display_data"
    },
    {
     "name": "stdout",
     "output_type": "stream",
     "text": [
      "<pad> A lack of accommodation for homeless people after their release from prison is costing the public purse,\n",
      "1.42 s ± 3.72 ms per loop (mean ± std. dev. of 7 runs, 1 loop each)\n",
      "822 ms ± 15.5 ms per loop (mean ± std. dev. of 7 runs, 1 loop each)\n",
      "369 ms ± 8.87 ms per loop (mean ± std. dev. of 7 runs, 1 loop each)\n"
     ]
    }
   ],
   "source": [
    "print(\"xsum-2-6\")\n",
    "model = AutoModelForSeq2SeqLM.from_pretrained('spacemanidol/flan-t5-large-2-6-xsum').to('cuda')\n",
    "outputs = model.generate(input_ids_1)\n",
    "print(tokenizer.decode(outputs[0]))\n",
    "%timeit model.generate(input_ids_16)\n",
    "%timeit model.generate(input_ids_8)\n",
    "%timeit model.generate(input_ids_1)"
   ]
  },
  {
   "cell_type": "code",
   "execution_count": 14,
   "id": "c9304637",
   "metadata": {},
   "outputs": [
    {
     "name": "stdout",
     "output_type": "stream",
     "text": [
      "xsum-1-6\n"
     ]
    },
    {
     "data": {
      "application/vnd.jupyter.widget-view+json": {
       "model_id": "fb638399b0f14fd7b235133a4bc3dade",
       "version_major": 2,
       "version_minor": 0
      },
      "text/plain": [
       "Downloading (…)lve/main/config.json:   0%|          | 0.00/775 [00:00<?, ?B/s]"
      ]
     },
     "metadata": {},
     "output_type": "display_data"
    },
    {
     "data": {
      "application/vnd.jupyter.widget-view+json": {
       "model_id": "5f1aff1f09674fc6837c120a3036cc71",
       "version_major": 2,
       "version_minor": 0
      },
      "text/plain": [
       "Downloading pytorch_model.bin:   0%|          | 0.00/2.10G [00:00<?, ?B/s]"
      ]
     },
     "metadata": {},
     "output_type": "display_data"
    },
    {
     "data": {
      "application/vnd.jupyter.widget-view+json": {
       "model_id": "102b31ef0b3d455fad53c5598e3b2aaf",
       "version_major": 2,
       "version_minor": 0
      },
      "text/plain": [
       "Downloading (…)neration_config.json:   0%|          | 0.00/147 [00:00<?, ?B/s]"
      ]
     },
     "metadata": {},
     "output_type": "display_data"
    },
    {
     "name": "stdout",
     "output_type": "stream",
     "text": [
      "<pad> A lack of suitable accommodation for homeless people could take six months to a year, a\n",
      "1.11 s ± 5.96 ms per loop (mean ± std. dev. of 7 runs, 1 loop each)\n",
      "649 ms ± 3.26 ms per loop (mean ± std. dev. of 7 runs, 1 loop each)\n",
      "345 ms ± 4.21 ms per loop (mean ± std. dev. of 7 runs, 1 loop each)\n"
     ]
    }
   ],
   "source": [
    "print(\"xsum-1-6\")\n",
    "model = AutoModelForSeq2SeqLM.from_pretrained('spacemanidol/flan-t5-large-1-6-xsum').to('cuda')\n",
    "outputs = model.generate(input_ids_1)\n",
    "print(tokenizer.decode(outputs[0]))\n",
    "%timeit model.generate(input_ids_16)\n",
    "%timeit model.generate(input_ids_8)\n",
    "%timeit model.generate(input_ids_1)"
   ]
  },
  {
   "cell_type": "code",
   "execution_count": 15,
   "id": "ad87c069",
   "metadata": {},
   "outputs": [
    {
     "name": "stdout",
     "output_type": "stream",
     "text": [
      "xsum-5-5\n"
     ]
    },
    {
     "data": {
      "application/vnd.jupyter.widget-view+json": {
       "model_id": "7afb2d6a5977453bb63246307187d13b",
       "version_major": 2,
       "version_minor": 0
      },
      "text/plain": [
       "Downloading (…)lve/main/config.json:   0%|          | 0.00/784 [00:00<?, ?B/s]"
      ]
     },
     "metadata": {},
     "output_type": "display_data"
    },
    {
     "data": {
      "application/vnd.jupyter.widget-view+json": {
       "model_id": "01cefe152de84c49bdc03cb9752c3118",
       "version_major": 2,
       "version_minor": 0
      },
      "text/plain": [
       "Downloading pytorch_model.bin:   0%|          | 0.00/2.65G [00:00<?, ?B/s]"
      ]
     },
     "metadata": {},
     "output_type": "display_data"
    },
    {
     "data": {
      "application/vnd.jupyter.widget-view+json": {
       "model_id": "3be6bca6da00455f8a39884eabd8d2b7",
       "version_major": 2,
       "version_minor": 0
      },
      "text/plain": [
       "Downloading (…)neration_config.json:   0%|          | 0.00/147 [00:00<?, ?B/s]"
      ]
     },
     "metadata": {},
     "output_type": "display_data"
    },
    {
     "name": "stdout",
     "output_type": "stream",
     "text": [
      "<pad> Ex-offenders in Wales are being left homeless because of a lack of accommodation, \n",
      "2.26 s ± 2.16 ms per loop (mean ± std. dev. of 7 runs, 1 loop each)\n",
      "1.23 s ± 13.2 ms per loop (mean ± std. dev. of 7 runs, 1 loop each)\n",
      "357 ms ± 11.8 ms per loop (mean ± std. dev. of 7 runs, 1 loop each)\n"
     ]
    }
   ],
   "source": [
    "print(\"xsum-5-5\")\n",
    "model = AutoModelForSeq2SeqLM.from_pretrained('spacemanidol/flan-t5-large-5-5-xsum').to('cuda')\n",
    "outputs = model.generate(input_ids_1)\n",
    "print(tokenizer.decode(outputs[0]))\n",
    "%timeit model.generate(input_ids_16)\n",
    "%timeit model.generate(input_ids_8)\n",
    "%timeit model.generate(input_ids_1)"
   ]
  },
  {
   "cell_type": "code",
   "execution_count": 16,
   "id": "6970bc95",
   "metadata": {},
   "outputs": [
    {
     "name": "stdout",
     "output_type": "stream",
     "text": [
      "xsum-4-4\n"
     ]
    },
    {
     "data": {
      "application/vnd.jupyter.widget-view+json": {
       "model_id": "6eb185e4642446a3ae54f2716b649fd6",
       "version_major": 2,
       "version_minor": 0
      },
      "text/plain": [
       "Downloading (…)lve/main/config.json:   0%|          | 0.00/784 [00:00<?, ?B/s]"
      ]
     },
     "metadata": {},
     "output_type": "display_data"
    },
    {
     "data": {
      "application/vnd.jupyter.widget-view+json": {
       "model_id": "90bee9a9627d4c3496119d6cbe338f3b",
       "version_major": 2,
       "version_minor": 0
      },
      "text/plain": [
       "Downloading pytorch_model.bin:   0%|          | 0.00/2.18G [00:00<?, ?B/s]"
      ]
     },
     "metadata": {},
     "output_type": "display_data"
    },
    {
     "data": {
      "application/vnd.jupyter.widget-view+json": {
       "model_id": "245ae520c4cc451180c5bfe817e7cb80",
       "version_major": 2,
       "version_minor": 0
      },
      "text/plain": [
       "Downloading (…)neration_config.json:   0%|          | 0.00/147 [00:00<?, ?B/s]"
      ]
     },
     "metadata": {},
     "output_type": "display_data"
    },
    {
     "name": "stdout",
     "output_type": "stream",
     "text": [
      "<pad> A charity has warned that there is a \"desperate need\" for housing for ex\n",
      "1.82 s ± 5.33 ms per loop (mean ± std. dev. of 7 runs, 1 loop each)\n",
      "995 ms ± 9.41 ms per loop (mean ± std. dev. of 7 runs, 1 loop each)\n",
      "288 ms ± 5.91 ms per loop (mean ± std. dev. of 7 runs, 1 loop each)\n"
     ]
    }
   ],
   "source": [
    "print(\"xsum-4-4\")\n",
    "model = AutoModelForSeq2SeqLM.from_pretrained('spacemanidol/flan-t5-large-4-4-xsum').to('cuda')\n",
    "outputs = model.generate(input_ids_1)\n",
    "print(tokenizer.decode(outputs[0]))\n",
    "%timeit model.generate(input_ids_16)\n",
    "%timeit model.generate(input_ids_8)\n",
    "%timeit model.generate(input_ids_1)"
   ]
  },
  {
   "cell_type": "code",
   "execution_count": 17,
   "id": "0419fe07",
   "metadata": {},
   "outputs": [
    {
     "name": "stdout",
     "output_type": "stream",
     "text": [
      "xsum-3-3\n"
     ]
    },
    {
     "data": {
      "application/vnd.jupyter.widget-view+json": {
       "model_id": "7f0002a13a6b4866bbe70d9bf7d947a0",
       "version_major": 2,
       "version_minor": 0
      },
      "text/plain": [
       "Downloading (…)lve/main/config.json:   0%|          | 0.00/784 [00:00<?, ?B/s]"
      ]
     },
     "metadata": {},
     "output_type": "display_data"
    },
    {
     "data": {
      "application/vnd.jupyter.widget-view+json": {
       "model_id": "1647eb2fc2b94dd7986998034ce20622",
       "version_major": 2,
       "version_minor": 0
      },
      "text/plain": [
       "Downloading pytorch_model.bin:   0%|          | 0.00/1.70G [00:00<?, ?B/s]"
      ]
     },
     "metadata": {},
     "output_type": "display_data"
    },
    {
     "data": {
      "application/vnd.jupyter.widget-view+json": {
       "model_id": "b76f1b7a15b542cb92705570d67c5d67",
       "version_major": 2,
       "version_minor": 0
      },
      "text/plain": [
       "Downloading (…)neration_config.json:   0%|          | 0.00/147 [00:00<?, ?B/s]"
      ]
     },
     "metadata": {},
     "output_type": "display_data"
    },
    {
     "name": "stdout",
     "output_type": "stream",
     "text": [
      "<pad> A charity has said there is a \"desperate need\" for housing for prison leave\n",
      "1.37 s ± 6.59 ms per loop (mean ± std. dev. of 7 runs, 1 loop each)\n",
      "748 ms ± 3.25 ms per loop (mean ± std. dev. of 7 runs, 1 loop each)\n",
      "217 ms ± 3.09 ms per loop (mean ± std. dev. of 7 runs, 1 loop each)\n"
     ]
    }
   ],
   "source": [
    "print(\"xsum-3-3\")\n",
    "model = AutoModelForSeq2SeqLM.from_pretrained('spacemanidol/flan-t5-large-3-3-xsum').to('cuda')\n",
    "outputs = model.generate(input_ids_1)\n",
    "print(tokenizer.decode(outputs[0]))\n",
    "%timeit model.generate(input_ids_16)\n",
    "%timeit model.generate(input_ids_8)\n",
    "%timeit model.generate(input_ids_1)"
   ]
  },
  {
   "cell_type": "code",
   "execution_count": 18,
   "id": "8fc13089",
   "metadata": {},
   "outputs": [
    {
     "name": "stdout",
     "output_type": "stream",
     "text": [
      "xsum-2-2\n"
     ]
    },
    {
     "data": {
      "application/vnd.jupyter.widget-view+json": {
       "model_id": "b01462a0552d4a32a55af45bc778a96c",
       "version_major": 2,
       "version_minor": 0
      },
      "text/plain": [
       "Downloading (…)lve/main/config.json:   0%|          | 0.00/782 [00:00<?, ?B/s]"
      ]
     },
     "metadata": {},
     "output_type": "display_data"
    },
    {
     "data": {
      "application/vnd.jupyter.widget-view+json": {
       "model_id": "7a8b939ce14e40d5a8285cc484aacca1",
       "version_major": 2,
       "version_minor": 0
      },
      "text/plain": [
       "Downloading pytorch_model.bin:   0%|          | 0.00/1.22G [00:00<?, ?B/s]"
      ]
     },
     "metadata": {},
     "output_type": "display_data"
    },
    {
     "data": {
      "application/vnd.jupyter.widget-view+json": {
       "model_id": "f1d506f5f0c1419baa272cd58d653311",
       "version_major": 2,
       "version_minor": 0
      },
      "text/plain": [
       "Downloading (…)neration_config.json:   0%|          | 0.00/147 [00:00<?, ?B/s]"
      ]
     },
     "metadata": {},
     "output_type": "display_data"
    },
    {
     "name": "stdout",
     "output_type": "stream",
     "text": [
      "<pad> A homeless charity has said it is \"desperate\" to find accommodation for those leaving prison\n",
      "920 ms ± 2.06 ms per loop (mean ± std. dev. of 7 runs, 1 loop each)\n",
      "511 ms ± 9.62 ms per loop (mean ± std. dev. of 7 runs, 1 loop each)\n",
      "158 ms ± 6.04 ms per loop (mean ± std. dev. of 7 runs, 10 loops each)\n"
     ]
    }
   ],
   "source": [
    "print(\"xsum-2-2\")\n",
    "model = AutoModelForSeq2SeqLM.from_pretrained('spacemanidol/flan-t5-large-2-2-xsum').to('cuda')\n",
    "outputs = model.generate(input_ids_1)\n",
    "print(tokenizer.decode(outputs[0]))\n",
    "%timeit model.generate(input_ids_16)\n",
    "%timeit model.generate(input_ids_8)\n",
    "%timeit model.generate(input_ids_1)"
   ]
  },
  {
   "cell_type": "code",
   "execution_count": 19,
   "id": "e79d7a6b",
   "metadata": {},
   "outputs": [
    {
     "name": "stdout",
     "output_type": "stream",
     "text": [
      "xsum-1-1\n"
     ]
    },
    {
     "data": {
      "application/vnd.jupyter.widget-view+json": {
       "model_id": "b159e1bdf88e4448b895823bb1b21cee",
       "version_major": 2,
       "version_minor": 0
      },
      "text/plain": [
       "Downloading (…)lve/main/config.json:   0%|          | 0.00/782 [00:00<?, ?B/s]"
      ]
     },
     "metadata": {},
     "output_type": "display_data"
    },
    {
     "data": {
      "application/vnd.jupyter.widget-view+json": {
       "model_id": "e3e05f85a1e447a3bff37a07d84d0777",
       "version_major": 2,
       "version_minor": 0
      },
      "text/plain": [
       "Downloading pytorch_model.bin:   0%|          | 0.00/741M [00:00<?, ?B/s]"
      ]
     },
     "metadata": {},
     "output_type": "display_data"
    },
    {
     "data": {
      "application/vnd.jupyter.widget-view+json": {
       "model_id": "0d668c4435634eecab8f7d95e48f6c8b",
       "version_major": 2,
       "version_minor": 0
      },
      "text/plain": [
       "Downloading (…)neration_config.json:   0%|          | 0.00/147 [00:00<?, ?B/s]"
      ]
     },
     "metadata": {},
     "output_type": "display_data"
    },
    {
     "name": "stdout",
     "output_type": "stream",
     "text": [
      "<pad> A homeless charity has said it is \"a desperate need for accommodation\" for homeless people in Wales\n",
      "481 ms ± 1.69 ms per loop (mean ± std. dev. of 7 runs, 1 loop each)\n",
      "267 ms ± 1.51 ms per loop (mean ± std. dev. of 7 runs, 1 loop each)\n",
      "92.3 ms ± 2.88 ms per loop (mean ± std. dev. of 7 runs, 10 loops each)\n"
     ]
    }
   ],
   "source": [
    "print(\"xsum-1-1\")\n",
    "model = AutoModelForSeq2SeqLM.from_pretrained('spacemanidol/flan-t5-large-1-1-xsum').to('cuda')\n",
    "outputs = model.generate(input_ids_1)\n",
    "print(tokenizer.decode(outputs[0]))\n",
    "%timeit model.generate(input_ids_16)\n",
    "%timeit model.generate(input_ids_8)\n",
    "%timeit model.generate(input_ids_1)"
   ]
  }
 ],
 "metadata": {
  "kernelspec": {
   "display_name": "Python 3",
   "language": "python",
   "name": "python3"
  },
  "language_info": {
   "codemirror_mode": {
    "name": "ipython",
    "version": 3
   },
   "file_extension": ".py",
   "mimetype": "text/x-python",
   "name": "python",
   "nbconvert_exporter": "python",
   "pygments_lexer": "ipython3",
   "version": "3.8.10"
  }
 },
 "nbformat": 4,
 "nbformat_minor": 5
}
