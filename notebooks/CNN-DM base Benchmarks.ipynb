{
 "cells": [
  {
   "cell_type": "code",
   "execution_count": 1,
   "id": "4a5e5a10",
   "metadata": {},
   "outputs": [
    {
     "name": "stderr",
     "output_type": "stream",
     "text": [
      "/home/ubuntu/.local/lib/python3.8/site-packages/pandas/core/computation/expressions.py:20: UserWarning: Pandas requires version '2.7.3' or newer of 'numexpr' (version '2.7.1' currently installed).\n",
      "  from pandas.core.computation.check import NUMEXPR_INSTALLED\n",
      "Found cached dataset cnn_dailymail (/home/ubuntu/.cache/huggingface/datasets/cnn_dailymail/3.0.0/3.0.0/1b3c71476f6d152c31c1730e83ccb08bcf23e348233f4fcc11e182248e6bf7de)\n"
     ]
    },
    {
     "data": {
      "application/vnd.jupyter.widget-view+json": {
       "model_id": "ae67518ef9a14c32960194a00a0d1700",
       "version_major": 2,
       "version_minor": 0
      },
      "text/plain": [
       "  0%|          | 0/3 [00:00<?, ?it/s]"
      ]
     },
     "metadata": {},
     "output_type": "display_data"
    },
    {
     "name": "stdout",
     "output_type": "stream",
     "text": [
      "['(CNN)The Palestinian Authority officially became the 123rd member of the International Criminal Court on Wednesday, a step that gives the court jurisdiction over alleged crimes in Palestinian territories. The formal accession was marked with a ceremony at The Hague, in the Netherlands, where the court is based. The Palestinians signed the ICC\\'s founding Rome Statute in January, when they also accepted its jurisdiction over alleged crimes committed \"in the occupied Palestinian territory, including East Jerusalem, since June 13, 2014.\" Later that month, the ICC opened a preliminary examination into the situation in Palestinian territories, paving the way for possible war crimes investigations against Israelis. As members of the court, Palestinians may be subject to counter-charges as well. Israel and the United States, neither of which is an ICC member, opposed the Palestinians\\' efforts to join the body. But Palestinian Foreign Minister Riad al-Malki, speaking at Wednesday\\'s ceremony, said it was a move toward greater justice. \"As Palestine formally becomes a State Party to the Rome Statute today, the world is also a step closer to ending a long era of impunity and injustice,\" he said, according to an ICC news release. \"Indeed, today brings us closer to our shared goals of justice and peace.\" Judge Kuniko Ozaki, a vice president of the ICC, said acceding to the treaty was just the first step for the Palestinians. \"As the Rome Statute today enters into force for the State of Palestine, Palestine acquires all the rights as well as responsibilities that come with being a State Party to the Statute. These are substantive commitments, which cannot be taken lightly,\" she said. Rights group Human Rights Watch welcomed the development. \"Governments seeking to penalize Palestine for joining the ICC should immediately end their pressure, and countries that support universal acceptance of the court\\'s treaty should speak out to welcome its membership,\" said Balkees Jarrah, international justice counsel for the group. \"What\\'s objectionable is the attempts to undermine international justice, not Palestine\\'s decision to join a treaty to which over 100 countries around the world are members.\" In January, when the preliminary ICC examination was opened, Israeli Prime Minister Benjamin Netanyahu described it as an outrage, saying the court was overstepping its boundaries. The United States also said it \"strongly\" disagreed with the court\\'s decision. \"As we have said repeatedly, we do not believe that Palestine is a state and therefore we do not believe that it is eligible to join the ICC,\" the State Department said in a statement. It urged the warring sides to resolve their differences through direct negotiations. \"We will continue to oppose actions against Israel at the ICC as counterproductive to the cause of peace,\" it said. But the ICC begs to differ with the definition of a state for its purposes and refers to the territories as \"Palestine.\" While a preliminary examination is not a formal investigation, it allows the court to review evidence and determine whether to investigate suspects on both sides. Prosecutor Fatou Bensouda said her office would \"conduct its analysis in full independence and impartiality.\" The war between Israel and Hamas militants in Gaza last summer left more than 2,000 people dead. The inquiry will include alleged war crimes committed since June. The International Criminal Court was set up in 2002 to prosecute genocide, crimes against humanity and war crimes. CNN\\'s Vasco Cotovio, Kareem Khadder and Faith Karimi contributed to this report.']\n",
      "['Membership gives the ICC jurisdiction over alleged crimes committed in Palestinian territories since last June .\\nIsrael and the United States opposed the move, which could open the door to war crimes investigations against Israelis .']\n"
     ]
    }
   ],
   "source": [
    "import datasets\n",
    "from transformers import AutoModelForSeq2SeqLM, AutoTokenizer\n",
    "\n",
    "\n",
    "tokenizer = AutoTokenizer.from_pretrained('spacemanidol/flan-t5-base-cnndm')\n",
    "dataset = datasets.load_dataset('cnn_dailymail','3.0.0')\n",
    "\n",
    "samples16 = dataset['test']['article'][0:16]\n",
    "samples8 = dataset['test']['article'][0:8]\n",
    "samples1 = dataset['test']['article'][0:1]\n",
    "print(dataset['test']['article'][0:1])\n",
    "print(dataset['test']['highlights'][0:1])\n",
    "input_ids_16 = tokenizer(samples16, return_tensors=\"pt\", padding=True, truncation=True, max_length=1024).input_ids.to('cuda')\n",
    "input_ids_8 = tokenizer(samples8, return_tensors=\"pt\", padding=True, truncation=True, max_length=1024).input_ids.to('cuda')\n",
    "input_ids_1 = tokenizer(samples1, return_tensors=\"pt\", padding=True, truncation=True, max_length=1024).input_ids.to('cuda')"
   ]
  },
  {
   "cell_type": "markdown",
   "id": "58c94423",
   "metadata": {},
   "source": [
    "Base Models"
   ]
  },
  {
   "cell_type": "code",
   "execution_count": 17,
   "id": "711419bb",
   "metadata": {},
   "outputs": [
    {
     "name": "stdout",
     "output_type": "stream",
     "text": [
      "cnn-6-5\n"
     ]
    },
    {
     "data": {
      "application/vnd.jupyter.widget-view+json": {
       "model_id": "f03ebe54e40e4b8ca46972ae2e2d2a64",
       "version_major": 2,
       "version_minor": 0
      },
      "text/plain": [
       "Downloading (…)lve/main/config.json:   0%|          | 0.00/1.53k [00:00<?, ?B/s]"
      ]
     },
     "metadata": {},
     "output_type": "display_data"
    },
    {
     "data": {
      "application/vnd.jupyter.widget-view+json": {
       "model_id": "42a344d750aa4f2f81a6ed5ad95c8ac2",
       "version_major": 2,
       "version_minor": 0
      },
      "text/plain": [
       "Downloading pytorch_model.bin:   0%|          | 0.00/990M [00:00<?, ?B/s]"
      ]
     },
     "metadata": {},
     "output_type": "display_data"
    },
    {
     "data": {
      "application/vnd.jupyter.widget-view+json": {
       "model_id": "2832a62b6d774bbfa3eaeb8d170b5184",
       "version_major": 2,
       "version_minor": 0
      },
      "text/plain": [
       "Downloading (…)neration_config.json:   0%|          | 0.00/147 [00:00<?, ?B/s]"
      ]
     },
     "metadata": {},
     "output_type": "display_data"
    },
    {
     "name": "stdout",
     "output_type": "stream",
     "text": [
      "<pad> The Palestinian Authority officially becomes the 123rd member of the International Criminal Court. The\n",
      "931 ms ± 2.09 ms per loop (mean ± std. dev. of 7 runs, 1 loop each)\n",
      "550 ms ± 3.81 ms per loop (mean ± std. dev. of 7 runs, 1 loop each)\n",
      "199 ms ± 3.74 ms per loop (mean ± std. dev. of 7 runs, 1 loop each)\n"
     ]
    }
   ],
   "source": [
    "print(\"cnn-6-6\")\n",
    "model = AutoModelForSeq2SeqLM.from_pretrained('spacemanidol/flan-t5-base-cnndm').to('cuda')\n",
    "outputs = model.generate(input_ids_1)\n",
    "print(tokenizer.decode(outputs[0]))\n",
    "%timeit model.generate(input_ids_16)\n",
    "%timeit model.generate(input_ids_8)\n",
    "%timeit model.generate(input_ids_1)"
   ]
  },
  {
   "cell_type": "code",
   "execution_count": 14,
   "id": "f48e0396",
   "metadata": {},
   "outputs": [
    {
     "name": "stdout",
     "output_type": "stream",
     "text": [
      "cnn-6-5\n",
      "<pad> The Palestinian Authority becomes the 123rd member of the International Criminal Court. The court\n",
      "889 ms ± 4.14 ms per loop (mean ± std. dev. of 7 runs, 1 loop each)\n",
      "524 ms ± 16.2 ms per loop (mean ± std. dev. of 7 runs, 1 loop each)\n",
      "179 ms ± 3.31 ms per loop (mean ± std. dev. of 7 runs, 10 loops each)\n"
     ]
    }
   ],
   "source": [
    "print(\"cnn-6-5\")\n",
    "model = AutoModelForSeq2SeqLM.from_pretrained('spacemanidol/flan-t5-base-6-5-cnndm').to('cuda')\n",
    "outputs = model.generate(input_ids_1)\n",
    "print(tokenizer.decode(outputs[0]))\n",
    "%timeit model.generate(input_ids_16)\n",
    "%timeit model.generate(input_ids_8)\n",
    "%timeit model.generate(input_ids_1)"
   ]
  },
  {
   "cell_type": "code",
   "execution_count": 15,
   "id": "31ac1eb0",
   "metadata": {},
   "outputs": [
    {
     "name": "stdout",
     "output_type": "stream",
     "text": [
      "cnn-6-4\n",
      "<pad> The Palestinian Authority officially becomes the 123rd member of the International Criminal Court. The\n",
      "844 ms ± 3.61 ms per loop (mean ± std. dev. of 7 runs, 1 loop each)\n",
      "493 ms ± 14 ms per loop (mean ± std. dev. of 7 runs, 1 loop each)\n",
      "155 ms ± 4.5 ms per loop (mean ± std. dev. of 7 runs, 10 loops each)\n"
     ]
    }
   ],
   "source": [
    "print(\"cnn-6-4\")\n",
    "model = AutoModelForSeq2SeqLM.from_pretrained('spacemanidol/flan-t5-base-6-4-cnndm').to('cuda')\n",
    "outputs = model.generate(input_ids_1)\n",
    "print(tokenizer.decode(outputs[0]))\n",
    "%timeit model.generate(input_ids_16)\n",
    "%timeit model.generate(input_ids_8)\n",
    "%timeit model.generate(input_ids_1)"
   ]
  },
  {
   "cell_type": "code",
   "execution_count": 16,
   "id": "734320c7",
   "metadata": {},
   "outputs": [
    {
     "name": "stdout",
     "output_type": "stream",
     "text": [
      "cnn-6-3\n",
      "<pad> The 123nd International Criminal Court is the largest in the world. The ICC is \n",
      "800 ms ± 4.59 ms per loop (mean ± std. dev. of 7 runs, 1 loop each)\n",
      "449 ms ± 5.88 ms per loop (mean ± std. dev. of 7 runs, 1 loop each)\n",
      "126 ms ± 1.95 ms per loop (mean ± std. dev. of 7 runs, 10 loops each)\n"
     ]
    }
   ],
   "source": [
    "print(\"cnn-6-3\")\n",
    "model = AutoModelForSeq2SeqLM.from_pretrained('spacemanidol/flan-t5-base-6-3-cnndm').to('cuda')\n",
    "outputs = model.generate(input_ids_1)\n",
    "print(tokenizer.decode(outputs[0]))\n",
    "%timeit model.generate(input_ids_16)\n",
    "%timeit model.generate(input_ids_8)\n",
    "%timeit model.generate(input_ids_1)"
   ]
  },
  {
   "cell_type": "code",
   "execution_count": 2,
   "id": "0fb31b1f",
   "metadata": {},
   "outputs": [
    {
     "name": "stdout",
     "output_type": "stream",
     "text": [
      "cnn-6-2\n"
     ]
    },
    {
     "name": "stderr",
     "output_type": "stream",
     "text": [
      "/home/ubuntu/.local/lib/python3.8/site-packages/transformers/generation/utils.py:1288: UserWarning: Using `max_length`'s default (20) to control the generation length. This behaviour is deprecated and will be removed from the config in v5 of Transformers -- we recommend using `max_new_tokens` to control the maximum length of the generation.\n",
      "  warnings.warn(\n"
     ]
    },
    {
     "name": "stdout",
     "output_type": "stream",
     "text": [
      "<pad> Palestinian Authority officially becomes 123rd member of the International Criminal Court. The ICC\n"
     ]
    },
    {
     "name": "stderr",
     "output_type": "stream",
     "text": [
      "/home/ubuntu/.local/lib/python3.8/site-packages/transformers/generation/utils.py:1288: UserWarning: Using `max_length`'s default (20) to control the generation length. This behaviour is deprecated and will be removed from the config in v5 of Transformers -- we recommend using `max_new_tokens` to control the maximum length of the generation.\n",
      "  warnings.warn(\n"
     ]
    },
    {
     "name": "stdout",
     "output_type": "stream",
     "text": [
      "737 ms ± 5.06 ms per loop (mean ± std. dev. of 7 runs, 1 loop each)\n",
      "405 ms ± 1.41 ms per loop (mean ± std. dev. of 7 runs, 1 loop each)\n",
      "99.2 ms ± 1.02 ms per loop (mean ± std. dev. of 7 runs, 10 loops each)\n"
     ]
    }
   ],
   "source": [
    "print(\"cnn-6-2\")\n",
    "model = AutoModelForSeq2SeqLM.from_pretrained('spacemanidol/flan-t5-base-6-2-cnndm').to('cuda')\n",
    "outputs = model.generate(input_ids_1)\n",
    "print(tokenizer.decode(outputs[0]))\n",
    "%timeit model.generate(input_ids_16)\n",
    "%timeit model.generate(input_ids_8)\n",
    "%timeit model.generate(input_ids_1)"
   ]
  },
  {
   "cell_type": "code",
   "execution_count": 3,
   "id": "14b45ede",
   "metadata": {},
   "outputs": [
    {
     "name": "stdout",
     "output_type": "stream",
     "text": [
      "cnn-6-1\n",
      "<pad> The Palestinian Authority officially becomes the 123rd member of the International Criminal Court. The\n",
      "697 ms ± 4.55 ms per loop (mean ± std. dev. of 7 runs, 1 loop each)\n",
      "372 ms ± 1.98 ms per loop (mean ± std. dev. of 7 runs, 1 loop each)\n",
      "75.3 ms ± 848 µs per loop (mean ± std. dev. of 7 runs, 10 loops each)\n"
     ]
    }
   ],
   "source": [
    "print(\"cnn-6-1\")\n",
    "model = AutoModelForSeq2SeqLM.from_pretrained('spacemanidol/flan-t5-base-6-1-cnndm').to('cuda')\n",
    "outputs = model.generate(input_ids_1)\n",
    "print(tokenizer.decode(outputs[0]))\n",
    "%timeit model.generate(input_ids_16)\n",
    "%timeit model.generate(input_ids_8)\n",
    "%timeit model.generate(input_ids_1)"
   ]
  },
  {
   "cell_type": "code",
   "execution_count": 4,
   "id": "3f43a362",
   "metadata": {},
   "outputs": [
    {
     "name": "stdout",
     "output_type": "stream",
     "text": [
      "cnn-5-6\n"
     ]
    },
    {
     "data": {
      "application/vnd.jupyter.widget-view+json": {
       "model_id": "48f91f7fbe7942809bfa20a6f811620d",
       "version_major": 2,
       "version_minor": 0
      },
      "text/plain": [
       "Downloading pytorch_model.bin:   0%|          | 0.00/934M [00:00<?, ?B/s]"
      ]
     },
     "metadata": {},
     "output_type": "display_data"
    },
    {
     "data": {
      "application/vnd.jupyter.widget-view+json": {
       "model_id": "526a1b7cc6e146fb9122fc745f845b7e",
       "version_major": 2,
       "version_minor": 0
      },
      "text/plain": [
       "Downloading (…)neration_config.json:   0%|          | 0.00/147 [00:00<?, ?B/s]"
      ]
     },
     "metadata": {},
     "output_type": "display_data"
    },
    {
     "name": "stdout",
     "output_type": "stream",
     "text": [
      "<pad> Palestinian Authority officially becomes 123rd member of International Criminal Court. ICC gives jurisdiction\n",
      "811 ms ± 1.18 ms per loop (mean ± std. dev. of 7 runs, 1 loop each)\n",
      "495 ms ± 14.5 ms per loop (mean ± std. dev. of 7 runs, 1 loop each)\n",
      "198 ms ± 4.75 ms per loop (mean ± std. dev. of 7 runs, 10 loops each)\n"
     ]
    }
   ],
   "source": [
    "print(\"cnn-5-6\")\n",
    "model = AutoModelForSeq2SeqLM.from_pretrained('spacemanidol/flan-t5-base-5-6-cnndm').to('cuda')\n",
    "outputs = model.generate(input_ids_1)\n",
    "print(tokenizer.decode(outputs[0]))\n",
    "%timeit model.generate(input_ids_16)\n",
    "%timeit model.generate(input_ids_8)\n",
    "%timeit model.generate(input_ids_1)"
   ]
  },
  {
   "cell_type": "code",
   "execution_count": 5,
   "id": "6ecb47c8",
   "metadata": {},
   "outputs": [
    {
     "name": "stdout",
     "output_type": "stream",
     "text": [
      "cnn-4-6\n"
     ]
    },
    {
     "data": {
      "application/vnd.jupyter.widget-view+json": {
       "model_id": "3a901fe5f86e4f488cbb91fa9098971c",
       "version_major": 2,
       "version_minor": 0
      },
      "text/plain": [
       "Downloading (…)lve/main/config.json:   0%|          | 0.00/1.53k [00:00<?, ?B/s]"
      ]
     },
     "metadata": {},
     "output_type": "display_data"
    },
    {
     "data": {
      "application/vnd.jupyter.widget-view+json": {
       "model_id": "a1f42121e51a454d9fdfb16fbb85a065",
       "version_major": 2,
       "version_minor": 0
      },
      "text/plain": [
       "Downloading pytorch_model.bin:   0%|          | 0.00/877M [00:00<?, ?B/s]"
      ]
     },
     "metadata": {},
     "output_type": "display_data"
    },
    {
     "data": {
      "application/vnd.jupyter.widget-view+json": {
       "model_id": "783bb3664b134ac397e8bd99cc6582d7",
       "version_major": 2,
       "version_minor": 0
      },
      "text/plain": [
       "Downloading (…)neration_config.json:   0%|          | 0.00/147 [00:00<?, ?B/s]"
      ]
     },
     "metadata": {},
     "output_type": "display_data"
    },
    {
     "name": "stdout",
     "output_type": "stream",
     "text": [
      "<pad> Palestinian Authority officially becomes 123rd member of the International Criminal Court. The court gives\n",
      "715 ms ± 4.39 ms per loop (mean ± std. dev. of 7 runs, 1 loop each)\n",
      "441 ms ± 7.82 ms per loop (mean ± std. dev. of 7 runs, 1 loop each)\n",
      "196 ms ± 3.72 ms per loop (mean ± std. dev. of 7 runs, 10 loops each)\n"
     ]
    }
   ],
   "source": [
    "print(\"cnn-4-6\")\n",
    "model = AutoModelForSeq2SeqLM.from_pretrained('spacemanidol/flan-t5-base-4-6-cnndm').to('cuda')\n",
    "outputs = model.generate(input_ids_1)\n",
    "print(tokenizer.decode(outputs[0]))\n",
    "%timeit model.generate(input_ids_16)\n",
    "%timeit model.generate(input_ids_8)\n",
    "%timeit model.generate(input_ids_1)"
   ]
  },
  {
   "cell_type": "code",
   "execution_count": 6,
   "id": "6bea006e",
   "metadata": {},
   "outputs": [
    {
     "name": "stdout",
     "output_type": "stream",
     "text": [
      "cnn-3-6\n"
     ]
    },
    {
     "data": {
      "application/vnd.jupyter.widget-view+json": {
       "model_id": "cee8ea50653c4d7a8614d58c3ad0796f",
       "version_major": 2,
       "version_minor": 0
      },
      "text/plain": [
       "Downloading (…)lve/main/config.json:   0%|          | 0.00/1.53k [00:00<?, ?B/s]"
      ]
     },
     "metadata": {},
     "output_type": "display_data"
    },
    {
     "data": {
      "application/vnd.jupyter.widget-view+json": {
       "model_id": "8200e97e02a745a18479a930272bcb06",
       "version_major": 2,
       "version_minor": 0
      },
      "text/plain": [
       "Downloading pytorch_model.bin:   0%|          | 0.00/820M [00:00<?, ?B/s]"
      ]
     },
     "metadata": {},
     "output_type": "display_data"
    },
    {
     "data": {
      "application/vnd.jupyter.widget-view+json": {
       "model_id": "6dd897da775d47a7b9212ef7da2f36c7",
       "version_major": 2,
       "version_minor": 0
      },
      "text/plain": [
       "Downloading (…)neration_config.json:   0%|          | 0.00/147 [00:00<?, ?B/s]"
      ]
     },
     "metadata": {},
     "output_type": "display_data"
    },
    {
     "name": "stdout",
     "output_type": "stream",
     "text": [
      "<pad> Palestinian Authority officially becomes 123rd member of International Criminal Court. Palestinians signed Rome\n",
      "613 ms ± 9.45 ms per loop (mean ± std. dev. of 7 runs, 1 loop each)\n",
      "396 ms ± 13.3 ms per loop (mean ± std. dev. of 7 runs, 1 loop each)\n",
      "187 ms ± 4.81 ms per loop (mean ± std. dev. of 7 runs, 10 loops each)\n"
     ]
    }
   ],
   "source": [
    "print(\"cnn-3-6\")\n",
    "model = AutoModelForSeq2SeqLM.from_pretrained('spacemanidol/flan-t5-base-3-6-cnndm').to('cuda')\n",
    "outputs = model.generate(input_ids_1)\n",
    "print(tokenizer.decode(outputs[0]))\n",
    "%timeit model.generate(input_ids_16)\n",
    "%timeit model.generate(input_ids_8)\n",
    "%timeit model.generate(input_ids_1)"
   ]
  },
  {
   "cell_type": "code",
   "execution_count": 7,
   "id": "9f32473b",
   "metadata": {},
   "outputs": [
    {
     "name": "stdout",
     "output_type": "stream",
     "text": [
      "cnn-2-6\n"
     ]
    },
    {
     "data": {
      "application/vnd.jupyter.widget-view+json": {
       "model_id": "46ef4e8618924d3abe4c13af2411958e",
       "version_major": 2,
       "version_minor": 0
      },
      "text/plain": [
       "Downloading (…)lve/main/config.json:   0%|          | 0.00/1.53k [00:00<?, ?B/s]"
      ]
     },
     "metadata": {},
     "output_type": "display_data"
    },
    {
     "data": {
      "application/vnd.jupyter.widget-view+json": {
       "model_id": "1c3c3f943bc14762b44e824138c21687",
       "version_major": 2,
       "version_minor": 0
      },
      "text/plain": [
       "Downloading pytorch_model.bin:   0%|          | 0.00/764M [00:00<?, ?B/s]"
      ]
     },
     "metadata": {},
     "output_type": "display_data"
    },
    {
     "data": {
      "application/vnd.jupyter.widget-view+json": {
       "model_id": "8f411e95de6940f0a7497eb4d4463418",
       "version_major": 2,
       "version_minor": 0
      },
      "text/plain": [
       "Downloading (…)neration_config.json:   0%|          | 0.00/147 [00:00<?, ?B/s]"
      ]
     },
     "metadata": {},
     "output_type": "display_data"
    },
    {
     "name": "stdout",
     "output_type": "stream",
     "text": [
      "<pad> Palestinian Authority officially becomes 123rd member of International Criminal Court. ICC established Rome\n",
      "509 ms ± 2.1 ms per loop (mean ± std. dev. of 7 runs, 1 loop each)\n",
      "330 ms ± 5.04 ms per loop (mean ± std. dev. of 7 runs, 1 loop each)\n",
      "183 ms ± 3.54 ms per loop (mean ± std. dev. of 7 runs, 10 loops each)\n"
     ]
    }
   ],
   "source": [
    "print(\"cnn-2-6\")\n",
    "model = AutoModelForSeq2SeqLM.from_pretrained('spacemanidol/flan-t5-base-2-6-cnndm').to('cuda')\n",
    "outputs = model.generate(input_ids_1)\n",
    "print(tokenizer.decode(outputs[0]))\n",
    "%timeit model.generate(input_ids_16)\n",
    "%timeit model.generate(input_ids_8)\n",
    "%timeit model.generate(input_ids_1)"
   ]
  },
  {
   "cell_type": "code",
   "execution_count": 8,
   "id": "1a2df2b6",
   "metadata": {},
   "outputs": [
    {
     "name": "stdout",
     "output_type": "stream",
     "text": [
      "cnn-1-6\n"
     ]
    },
    {
     "data": {
      "application/vnd.jupyter.widget-view+json": {
       "model_id": "14a3237d56994614b56db8fbd98afc85",
       "version_major": 2,
       "version_minor": 0
      },
      "text/plain": [
       "Downloading (…)lve/main/config.json:   0%|          | 0.00/1.53k [00:00<?, ?B/s]"
      ]
     },
     "metadata": {},
     "output_type": "display_data"
    },
    {
     "data": {
      "application/vnd.jupyter.widget-view+json": {
       "model_id": "a73b6abee8964f6792fb44437377c695",
       "version_major": 2,
       "version_minor": 0
      },
      "text/plain": [
       "Downloading pytorch_model.bin:   0%|          | 0.00/707M [00:00<?, ?B/s]"
      ]
     },
     "metadata": {},
     "output_type": "display_data"
    },
    {
     "data": {
      "application/vnd.jupyter.widget-view+json": {
       "model_id": "7f4a8a92abfc45b68e898ac1d9d33245",
       "version_major": 2,
       "version_minor": 0
      },
      "text/plain": [
       "Downloading (…)neration_config.json:   0%|          | 0.00/147 [00:00<?, ?B/s]"
      ]
     },
     "metadata": {},
     "output_type": "display_data"
    },
    {
     "name": "stdout",
     "output_type": "stream",
     "text": [
      "<pad> NEW: Palestinians sign ICC's Rome Statute in January. The ICC\n",
      "400 ms ± 3.25 ms per loop (mean ± std. dev. of 7 runs, 1 loop each)\n",
      "272 ms ± 1.79 ms per loop (mean ± std. dev. of 7 runs, 1 loop each)\n",
      "176 ms ± 3.52 ms per loop (mean ± std. dev. of 7 runs, 10 loops each)\n"
     ]
    }
   ],
   "source": [
    "print(\"cnn-1-6\")\n",
    "model = AutoModelForSeq2SeqLM.from_pretrained('spacemanidol/flan-t5-base-1-6-cnndm').to('cuda')\n",
    "outputs = model.generate(input_ids_1)\n",
    "print(tokenizer.decode(outputs[0]))\n",
    "%timeit model.generate(input_ids_16)\n",
    "%timeit model.generate(input_ids_8)\n",
    "%timeit model.generate(input_ids_1)"
   ]
  },
  {
   "cell_type": "code",
   "execution_count": 9,
   "id": "d67adb3f",
   "metadata": {},
   "outputs": [
    {
     "name": "stdout",
     "output_type": "stream",
     "text": [
      "cnn-5-5\n"
     ]
    },
    {
     "data": {
      "application/vnd.jupyter.widget-view+json": {
       "model_id": "0c9fb091b45f44d0b5dfd8c6d724b70b",
       "version_major": 2,
       "version_minor": 0
      },
      "text/plain": [
       "Downloading (…)lve/main/config.json:   0%|          | 0.00/1.53k [00:00<?, ?B/s]"
      ]
     },
     "metadata": {},
     "output_type": "display_data"
    },
    {
     "data": {
      "application/vnd.jupyter.widget-view+json": {
       "model_id": "62e59e4b7a43461d9324a35c6ea0ba20",
       "version_major": 2,
       "version_minor": 0
      },
      "text/plain": [
       "Downloading pytorch_model.bin:   0%|          | 0.00/858M [00:00<?, ?B/s]"
      ]
     },
     "metadata": {},
     "output_type": "display_data"
    },
    {
     "data": {
      "application/vnd.jupyter.widget-view+json": {
       "model_id": "5f54ce991baf43298a312ba7788f0955",
       "version_major": 2,
       "version_minor": 0
      },
      "text/plain": [
       "Downloading (…)neration_config.json:   0%|          | 0.00/147 [00:00<?, ?B/s]"
      ]
     },
     "metadata": {},
     "output_type": "display_data"
    },
    {
     "name": "stdout",
     "output_type": "stream",
     "text": [
      "<pad> Palestinian Authority officially becomes 123rd member of the International Criminal Court. The court gives\n",
      "776 ms ± 4.62 ms per loop (mean ± std. dev. of 7 runs, 1 loop each)\n",
      "462 ms ± 11.9 ms per loop (mean ± std. dev. of 7 runs, 1 loop each)\n",
      "171 ms ± 3.21 ms per loop (mean ± std. dev. of 7 runs, 10 loops each)\n"
     ]
    }
   ],
   "source": [
    "print(\"cnn-5-5\")\n",
    "model = AutoModelForSeq2SeqLM.from_pretrained('spacemanidol/flan-t5-base-5-5-cnndm').to('cuda')\n",
    "outputs = model.generate(input_ids_1)\n",
    "print(tokenizer.decode(outputs[0]))\n",
    "%timeit model.generate(input_ids_16)\n",
    "%timeit model.generate(input_ids_8)\n",
    "%timeit model.generate(input_ids_1)"
   ]
  },
  {
   "cell_type": "code",
   "execution_count": 10,
   "id": "246542c2",
   "metadata": {},
   "outputs": [
    {
     "name": "stdout",
     "output_type": "stream",
     "text": [
      "cnn-4-4\n"
     ]
    },
    {
     "data": {
      "application/vnd.jupyter.widget-view+json": {
       "model_id": "f487ccdb55a049a79d5aa01de4dddf2a",
       "version_major": 2,
       "version_minor": 0
      },
      "text/plain": [
       "Downloading (…)lve/main/config.json:   0%|          | 0.00/1.53k [00:00<?, ?B/s]"
      ]
     },
     "metadata": {},
     "output_type": "display_data"
    },
    {
     "data": {
      "application/vnd.jupyter.widget-view+json": {
       "model_id": "6792fdffd7ae4f399d73cb8a9e703b37",
       "version_major": 2,
       "version_minor": 0
      },
      "text/plain": [
       "Downloading pytorch_model.bin:   0%|          | 0.00/726M [00:00<?, ?B/s]"
      ]
     },
     "metadata": {},
     "output_type": "display_data"
    },
    {
     "data": {
      "application/vnd.jupyter.widget-view+json": {
       "model_id": "55cd019379d74ee998825c6ebeb5e3ff",
       "version_major": 2,
       "version_minor": 0
      },
      "text/plain": [
       "Downloading (…)neration_config.json:   0%|          | 0.00/147 [00:00<?, ?B/s]"
      ]
     },
     "metadata": {},
     "output_type": "display_data"
    },
    {
     "name": "stdout",
     "output_type": "stream",
     "text": [
      "<pad> Palestinian Authority officially becomes 123rd member of the International Criminal Court. The formal acces\n",
      "628 ms ± 6.48 ms per loop (mean ± std. dev. of 7 runs, 1 loop each)\n",
      "371 ms ± 12.1 ms per loop (mean ± std. dev. of 7 runs, 1 loop each)\n",
      "141 ms ± 2.96 ms per loop (mean ± std. dev. of 7 runs, 10 loops each)\n"
     ]
    }
   ],
   "source": [
    "print(\"cnn-4-4\")\n",
    "model = AutoModelForSeq2SeqLM.from_pretrained('spacemanidol/flan-t5-base-4-4-cnndm').to('cuda')\n",
    "outputs = model.generate(input_ids_1)\n",
    "print(tokenizer.decode(outputs[0]))\n",
    "%timeit model.generate(input_ids_16)\n",
    "%timeit model.generate(input_ids_8)\n",
    "%timeit model.generate(input_ids_1)"
   ]
  },
  {
   "cell_type": "code",
   "execution_count": 11,
   "id": "70aaf69b",
   "metadata": {},
   "outputs": [
    {
     "name": "stdout",
     "output_type": "stream",
     "text": [
      "cnn-3-3\n"
     ]
    },
    {
     "data": {
      "application/vnd.jupyter.widget-view+json": {
       "model_id": "f79c867eedbc4efc9a9b10454db6ff11",
       "version_major": 2,
       "version_minor": 0
      },
      "text/plain": [
       "Downloading (…)lve/main/config.json:   0%|          | 0.00/1.53k [00:00<?, ?B/s]"
      ]
     },
     "metadata": {},
     "output_type": "display_data"
    },
    {
     "data": {
      "application/vnd.jupyter.widget-view+json": {
       "model_id": "d9f48fd81a9749259f54249ce72765b7",
       "version_major": 2,
       "version_minor": 0
      },
      "text/plain": [
       "Downloading pytorch_model.bin:   0%|          | 0.00/594M [00:00<?, ?B/s]"
      ]
     },
     "metadata": {},
     "output_type": "display_data"
    },
    {
     "data": {
      "application/vnd.jupyter.widget-view+json": {
       "model_id": "bcbfb90f815e4e55bcd32dc14b7c328d",
       "version_major": 2,
       "version_minor": 0
      },
      "text/plain": [
       "Downloading (…)neration_config.json:   0%|          | 0.00/147 [00:00<?, ?B/s]"
      ]
     },
     "metadata": {},
     "output_type": "display_data"
    },
    {
     "name": "stdout",
     "output_type": "stream",
     "text": [
      "<pad> Palestinian Authority officially becomes 123rd member of the International Criminal Court. The ICC\n",
      "478 ms ± 3.55 ms per loop (mean ± std. dev. of 7 runs, 1 loop each)\n",
      "281 ms ± 2.61 ms per loop (mean ± std. dev. of 7 runs, 1 loop each)\n",
      "109 ms ± 1.71 ms per loop (mean ± std. dev. of 7 runs, 10 loops each)\n"
     ]
    }
   ],
   "source": [
    "print(\"cnn-3-3\")\n",
    "model = AutoModelForSeq2SeqLM.from_pretrained('spacemanidol/flan-t5-base-3-3-cnndm').to('cuda')\n",
    "outputs = model.generate(input_ids_1)\n",
    "print(tokenizer.decode(outputs[0]))\n",
    "%timeit model.generate(input_ids_16)\n",
    "%timeit model.generate(input_ids_8)\n",
    "%timeit model.generate(input_ids_1)"
   ]
  },
  {
   "cell_type": "code",
   "execution_count": 12,
   "id": "2777cd07",
   "metadata": {},
   "outputs": [
    {
     "name": "stdout",
     "output_type": "stream",
     "text": [
      "cnn-2-2\n"
     ]
    },
    {
     "data": {
      "application/vnd.jupyter.widget-view+json": {
       "model_id": "034c8e8c66134690bdf4259a0220b5f9",
       "version_major": 2,
       "version_minor": 0
      },
      "text/plain": [
       "Downloading (…)lve/main/config.json:   0%|          | 0.00/1.53k [00:00<?, ?B/s]"
      ]
     },
     "metadata": {},
     "output_type": "display_data"
    },
    {
     "data": {
      "application/vnd.jupyter.widget-view+json": {
       "model_id": "70065033a7c24ff0b45624fb6b14ba92",
       "version_major": 2,
       "version_minor": 0
      },
      "text/plain": [
       "Downloading pytorch_model.bin:   0%|          | 0.00/462M [00:00<?, ?B/s]"
      ]
     },
     "metadata": {},
     "output_type": "display_data"
    },
    {
     "data": {
      "application/vnd.jupyter.widget-view+json": {
       "model_id": "56c334b20a8a4834b0172eb1b24f6e21",
       "version_major": 2,
       "version_minor": 0
      },
      "text/plain": [
       "Downloading (…)neration_config.json:   0%|          | 0.00/147 [00:00<?, ?B/s]"
      ]
     },
     "metadata": {},
     "output_type": "display_data"
    },
    {
     "name": "stdout",
     "output_type": "stream",
     "text": [
      "<pad> Palestinian Authority officially becomes 123rd member of the International Criminal Court. The ICC\n",
      "329 ms ± 740 µs per loop (mean ± std. dev. of 7 runs, 1 loop each)\n",
      "198 ms ± 1.24 ms per loop (mean ± std. dev. of 7 runs, 10 loops each)\n",
      "82.5 ms ± 1.71 ms per loop (mean ± std. dev. of 7 runs, 10 loops each)\n"
     ]
    }
   ],
   "source": [
    "print(\"cnn-2-2\")\n",
    "model = AutoModelForSeq2SeqLM.from_pretrained('spacemanidol/flan-t5-base-2-2-cnndm').to('cuda')\n",
    "outputs = model.generate(input_ids_1)\n",
    "print(tokenizer.decode(outputs[0]))\n",
    "%timeit model.generate(input_ids_16)\n",
    "%timeit model.generate(input_ids_8)\n",
    "%timeit model.generate(input_ids_1)"
   ]
  },
  {
   "cell_type": "code",
   "execution_count": 13,
   "id": "b0704323",
   "metadata": {},
   "outputs": [
    {
     "name": "stdout",
     "output_type": "stream",
     "text": [
      "cnn-1-1\n"
     ]
    },
    {
     "data": {
      "application/vnd.jupyter.widget-view+json": {
       "model_id": "a55d2b20147640b98d82ee1c811cee95",
       "version_major": 2,
       "version_minor": 0
      },
      "text/plain": [
       "Downloading (…)lve/main/config.json:   0%|          | 0.00/1.53k [00:00<?, ?B/s]"
      ]
     },
     "metadata": {},
     "output_type": "display_data"
    },
    {
     "data": {
      "application/vnd.jupyter.widget-view+json": {
       "model_id": "041106f037d84f46896298560245396f",
       "version_major": 2,
       "version_minor": 0
      },
      "text/plain": [
       "Downloading pytorch_model.bin:   0%|          | 0.00/330M [00:00<?, ?B/s]"
      ]
     },
     "metadata": {},
     "output_type": "display_data"
    },
    {
     "data": {
      "application/vnd.jupyter.widget-view+json": {
       "model_id": "665d7265f62c45e596eb11d60e983684",
       "version_major": 2,
       "version_minor": 0
      },
      "text/plain": [
       "Downloading (…)neration_config.json:   0%|          | 0.00/147 [00:00<?, ?B/s]"
      ]
     },
     "metadata": {},
     "output_type": "display_data"
    },
    {
     "name": "stdout",
     "output_type": "stream",
     "text": [
      "<pad> NEW: Palestinian Authority officially becomes 123rd member of International Criminal Court. Palestinian Authority\n",
      "178 ms ± 557 µs per loop (mean ± std. dev. of 7 runs, 10 loops each)\n",
      "112 ms ± 2.59 ms per loop (mean ± std. dev. of 7 runs, 10 loops each)\n",
      "50.7 ms ± 1.3 ms per loop (mean ± std. dev. of 7 runs, 10 loops each)\n"
     ]
    }
   ],
   "source": [
    "print(\"cnn-1-1\")\n",
    "model = AutoModelForSeq2SeqLM.from_pretrained('spacemanidol/flan-t5-base-1-1-cnndm').to('cuda')\n",
    "outputs = model.generate(input_ids_1)\n",
    "print(tokenizer.decode(outputs[0]))\n",
    "%timeit model.generate(input_ids_16)\n",
    "%timeit modehttp://localhost:8888/notebooks/notebooks/CNN-DM%20base%20Benchmarks.ipynb#l.generate(input_ids_8)\n",
    "%timeit model.generate(input_ids_1)"
   ]
  },
  {
   "cell_type": "code",
   "execution_count": null,
   "id": "af21c7eb",
   "metadata": {},
   "outputs": [],
   "source": []
  }
 ],
 "metadata": {
  "kernelspec": {
   "display_name": "Python 3",
   "language": "python",
   "name": "python3"
  },
  "language_info": {
   "codemirror_mode": {
    "name": "ipython",
    "version": 3
   },
   "file_extension": ".py",
   "mimetype": "text/x-python",
   "name": "python",
   "nbconvert_exporter": "python",
   "pygments_lexer": "ipython3",
   "version": "3.8.10"
  }
 },
 "nbformat": 4,
 "nbformat_minor": 5
}
