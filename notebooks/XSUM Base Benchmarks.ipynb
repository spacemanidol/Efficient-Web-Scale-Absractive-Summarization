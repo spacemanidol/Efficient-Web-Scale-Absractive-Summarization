{
 "cells": [
  {
   "cell_type": "code",
   "execution_count": 3,
   "id": "fa61b346",
   "metadata": {},
   "outputs": [
    {
     "name": "stderr",
     "output_type": "stream",
     "text": [
      "Using custom data configuration default\n",
      "Reusing dataset xsum (/root/.cache/huggingface/datasets/xsum/default/1.2.0/32c23220eadddb1149b16ed2e9430a05293768cfffbdfd151058697d4c11f934)\n"
     ]
    },
    {
     "data": {
      "application/vnd.jupyter.widget-view+json": {
       "model_id": "a31630799cd34e93b3b8edd70b74bc2d",
       "version_major": 2,
       "version_minor": 0
      },
      "text/plain": [
       "  0%|          | 0/3 [00:00<?, ?it/s]"
      ]
     },
     "metadata": {},
     "output_type": "display_data"
    },
    {
     "name": "stdout",
     "output_type": "stream",
     "text": [
      "['Prison Link Cymru had 1,099 referrals in 2015-16 and said some ex-offenders were living rough for up to a year before finding suitable accommodation.\\nWorkers at the charity claim investment in housing would be cheaper than jailing homeless repeat offenders.\\nThe Welsh Government said more people than ever were getting help to address housing problems.\\nChanges to the Housing Act in Wales, introduced in 2015, removed the right for prison leavers to be given priority for accommodation.\\nPrison Link Cymru, which helps people find accommodation after their release, said things were generally good for women because issues such as children or domestic violence were now considered.\\nHowever, the same could not be said for men, the charity said, because issues which often affect them, such as post traumatic stress disorder or drug dependency, were often viewed as less of a priority.\\nAndrew Stevens, who works in Welsh prisons trying to secure housing for prison leavers, said the need for accommodation was \"chronic\".\\n\"There\\'s a desperate need for it, finding suitable accommodation for those leaving prison there is just a lack of it everywhere,\" he said.\\n\"It could take six months to a year, without a lot of help they could be on the streets for six months.\\n\"When you think of the consequences of either being on the street, especially with the cold weather at the moment or you may have a roof over your head, sometimes there is only one choice.\"\\nMr Stevens believes building more one-bedroom flats could help ease the problem.\\n\"The average price is a hundred pounds a week to keep someone in a rented flat, prison is a lot more than that so I would imagine it would save the public purse quite a few pounds,\" he said.\\nOfficial figures show 830 one-bedroom properties were built in the year to March 2016, of an overall total of 6,900 new properties in Wales.\\nMarc, 50, who has been in and out of prison for the past 20 years for burglary offences, said he struggled to find accommodation each time he was released.\\nHe said he would ask himself: \"Where am I going to stay? Where am I going to live? Have I got somewhere where I can see my daughter.\"\\n\"You\\'re put out among the same sort of people doing the same sort of thing, and it\\'s difficult, it\\'s difficult to get away from it. It\\'s like every man for himself, there\\'s nothing.\"\\nMarc has now found stable accommodation with homeless charity Emmaus and said it had been life changing.\\n\"You feel safe, you got hot food, you\\'ve got company of people in similar situations to yourself but all dealing with different issues. It\\'s a constructive, helpful atmosphere,\" he said.\\nTom Clarke, chief executive of Emmaus South Wales, agreed there was not enough support available.\\n\"We do still see [people] homeless on the streets, so clearly they haven\\'t got accommodation and haven\\'t got provision,\" he said.\\n\"I think the key is connecting people with the services they need. I don\\'t delude myself that Emmaus can offer a one size fits all for everyone, we can\\'t.\\n\"But there must be other opportunities and given suitable encouragement I believe that can and should happen.\"\\nA Welsh Government spokesman said the national pathway for homeless services to children, young people and adults in the secure estate had prevented many people from losing their home whilst serving their prison sentence.\\nIt added there were already significant demands for one-bedroom flats across the public and private sector and it was providing 20,000 new affordable homes in the next five years.']\n",
      "['There is a \"chronic\" need for more housing for prison leavers in Wales, according to a charity.']\n"
     ]
    }
   ],
   "source": [
    "import datasets\n",
    "from transformers import AutoModelForSeq2SeqLM, AutoTokenizer\n",
    "\n",
    "\n",
    "tokenizer = AutoTokenizer.from_pretrained('spacemanidol/flan-t5-small-6-5-xsum')\n",
    "dataset = datasets.load_dataset('xsum')\n",
    "\n",
    "samples16 = dataset['test']['document'][0:16]\n",
    "samples8 = dataset['test']['document'][0:8]\n",
    "samples1 = dataset['test']['document'][0:1]\n",
    "print(dataset['test']['document'][0:1])\n",
    "print(dataset['test']['summary'][0:1])\n",
    "input_ids_16 = tokenizer(samples16, return_tensors=\"pt\", padding=True, truncation=True, max_length=1024).input_ids.to('cuda')\n",
    "input_ids_8 = tokenizer(samples8, return_tensors=\"pt\", padding=True, truncation=True, max_length=1024).input_ids.to('cuda')\n",
    "input_ids_1 = tokenizer(samples1, return_tensors=\"pt\", padding=True, truncation=True, max_length=1024).input_ids.to('cuda')"
   ]
  },
  {
   "cell_type": "markdown",
   "id": "0d15ac2b",
   "metadata": {},
   "source": [
    "Small Models"
   ]
  },
  {
   "cell_type": "code",
   "execution_count": 4,
   "id": "cd0dec48",
   "metadata": {},
   "outputs": [
    {
     "name": "stdout",
     "output_type": "stream",
     "text": [
      "xsum-6-5\n"
     ]
    },
    {
     "data": {
      "application/vnd.jupyter.widget-view+json": {
       "model_id": "ef7d78ce2feb4c499d6f4914c036a815",
       "version_major": 2,
       "version_minor": 0
      },
      "text/plain": [
       "Downloading:   0%|          | 0.00/1.49k [00:00<?, ?B/s]"
      ]
     },
     "metadata": {},
     "output_type": "display_data"
    },
    {
     "data": {
      "application/vnd.jupyter.widget-view+json": {
       "model_id": "4b65a4b761384bf9bf7456eda188a592",
       "version_major": 2,
       "version_minor": 0
      },
      "text/plain": [
       "Downloading:   0%|          | 0.00/270M [00:00<?, ?B/s]"
      ]
     },
     "metadata": {},
     "output_type": "display_data"
    },
    {
     "name": "stdout",
     "output_type": "stream",
     "text": [
      "<pad> A charity has said it is \"a desperate need\" for accommodation for prisoners who leave prison.\n",
      "303 ms ± 521 µs per loop (mean ± std. dev. of 7 runs, 1 loop each)\n",
      "214 ms ± 1.03 ms per loop (mean ± std. dev. of 7 runs, 1 loop each)\n",
      "135 ms ± 223 µs per loop (mean ± std. dev. of 7 runs, 10 loops each)\n"
     ]
    }
   ],
   "source": [
    "print(\"xsum-6-5\")\n",
    "model = AutoModelForSeq2SeqLM.from_pretrained('spacemanidol/flan-t5-small-6-5-xsum').to('cuda')\n",
    "outputs = model.generate(input_ids_1)\n",
    "print(tokenizer.decode(outputs[0]))\n",
    "%timeit model.generate(input_ids_16)\n",
    "%timeit model.generate(input_ids_8)\n",
    "%timeit model.generate(input_ids_1)"
   ]
  },
  {
   "cell_type": "code",
   "execution_count": 5,
   "id": "b57d72a0",
   "metadata": {},
   "outputs": [
    {
     "name": "stdout",
     "output_type": "stream",
     "text": [
      "xsum-6-4\n"
     ]
    },
    {
     "data": {
      "application/vnd.jupyter.widget-view+json": {
       "model_id": "fe5d4d15c1574dd5b7ce76e2939cea88",
       "version_major": 2,
       "version_minor": 0
      },
      "text/plain": [
       "Downloading:   0%|          | 0.00/1.49k [00:00<?, ?B/s]"
      ]
     },
     "metadata": {},
     "output_type": "display_data"
    },
    {
     "data": {
      "application/vnd.jupyter.widget-view+json": {
       "model_id": "e637c96e84864be2a974c83d666a94b2",
       "version_major": 2,
       "version_minor": 0
      },
      "text/plain": [
       "Downloading:   0%|          | 0.00/258M [00:00<?, ?B/s]"
      ]
     },
     "metadata": {},
     "output_type": "display_data"
    },
    {
     "name": "stdout",
     "output_type": "stream",
     "text": [
      "<pad> A charity has said it is \"a desperate need\" for housing for ex-offenders who\n",
      "282 ms ± 957 µs per loop (mean ± std. dev. of 7 runs, 1 loop each)\n",
      "195 ms ± 219 µs per loop (mean ± std. dev. of 7 runs, 10 loops each)\n",
      "117 ms ± 237 µs per loop (mean ± std. dev. of 7 runs, 10 loops each)\n"
     ]
    }
   ],
   "source": [
    "print(\"xsum-6-4\")\n",
    "model = AutoModelForSeq2SeqLM.from_pretrained('spacemanidol/flan-t5-small-6-4-xsum').to('cuda')\n",
    "outputs = model.generate(input_ids_1)\n",
    "print(tokenizer.decode(outputs[0]))\n",
    "%timeit model.generate(input_ids_16)\n",
    "%timeit model.generate(input_ids_8)\n",
    "%timeit model.generate(input_ids_1)"
   ]
  },
  {
   "cell_type": "code",
   "execution_count": 7,
   "id": "c11acf20",
   "metadata": {},
   "outputs": [
    {
     "name": "stdout",
     "output_type": "stream",
     "text": [
      "xsum-6-3\n"
     ]
    },
    {
     "data": {
      "application/vnd.jupyter.widget-view+json": {
       "model_id": "8573d1c16daa427da308197b553604a6",
       "version_major": 2,
       "version_minor": 0
      },
      "text/plain": [
       "Downloading:   0%|          | 0.00/1.49k [00:00<?, ?B/s]"
      ]
     },
     "metadata": {},
     "output_type": "display_data"
    },
    {
     "data": {
      "application/vnd.jupyter.widget-view+json": {
       "model_id": "d6f3eb52411045d4868af690a853a177",
       "version_major": 2,
       "version_minor": 0
      },
      "text/plain": [
       "Downloading:   0%|          | 0.00/246M [00:00<?, ?B/s]"
      ]
     },
     "metadata": {},
     "output_type": "display_data"
    },
    {
     "name": "stdout",
     "output_type": "stream",
     "text": [
      "<pad> A charity has said it is \"a desperate need\" for housing for ex-offenders who\n",
      "262 ms ± 634 µs per loop (mean ± std. dev. of 7 runs, 1 loop each)\n",
      "176 ms ± 103 µs per loop (mean ± std. dev. of 7 runs, 10 loops each)\n",
      "99.4 ms ± 100 µs per loop (mean ± std. dev. of 7 runs, 10 loops each)\n"
     ]
    }
   ],
   "source": [
    "print(\"xsum-6-3\")\n",
    "model = AutoModelForSeq2SeqLM.from_pretrained('spacemanidol/flan-t5-small-6-3-xsum').to('cuda')\n",
    "outputs = model.generate(input_ids_1)\n",
    "print(tokenizer.decode(outputs[0]))\n",
    "%timeit model.generate(input_ids_16)\n",
    "%timeit model.generate(input_ids_8)\n",
    "%timeit model.generate(input_ids_1)"
   ]
  },
  {
   "cell_type": "code",
   "execution_count": 8,
   "id": "792e50da",
   "metadata": {},
   "outputs": [
    {
     "name": "stdout",
     "output_type": "stream",
     "text": [
      "xsum-6-2\n"
     ]
    },
    {
     "data": {
      "application/vnd.jupyter.widget-view+json": {
       "model_id": "1df327e5e6e54cd6827c26de71122c19",
       "version_major": 2,
       "version_minor": 0
      },
      "text/plain": [
       "Downloading:   0%|          | 0.00/1.49k [00:00<?, ?B/s]"
      ]
     },
     "metadata": {},
     "output_type": "display_data"
    },
    {
     "data": {
      "application/vnd.jupyter.widget-view+json": {
       "model_id": "ed55f63909cf4db7b125631baaad6274",
       "version_major": 2,
       "version_minor": 0
      },
      "text/plain": [
       "Downloading:   0%|          | 0.00/222M [00:00<?, ?B/s]"
      ]
     },
     "metadata": {},
     "output_type": "display_data"
    },
    {
     "name": "stdout",
     "output_type": "stream",
     "text": [
      "<pad> A homeless charity has said it could help alleviate a shortage of accommodation for prisoners in prison\n",
      "220 ms ± 564 µs per loop (mean ± std. dev. of 7 runs, 1 loop each)\n",
      "138 ms ± 157 µs per loop (mean ± std. dev. of 7 runs, 10 loops each)\n",
      "64.1 ms ± 163 µs per loop (mean ± std. dev. of 7 runs, 10 loops each)\n"
     ]
    }
   ],
   "source": [
    "print(\"xsum-6-2\")\n",
    "model = AutoModelForSeq2SeqLM.from_pretrained('spacemanidol/flan-t5-small-6-2-xsum').to('cuda')\n",
    "outputs = model.generate(input_ids_1)\n",
    "print(tokenizer.decode(outputs[0]))\n",
    "%timeit model.generate(input_ids_16)\n",
    "%timeit model.generate(input_ids_8)\n",
    "%timeit model.generate(input_ids_1)"
   ]
  },
  {
   "cell_type": "code",
   "execution_count": 9,
   "id": "5a27a8dd",
   "metadata": {},
   "outputs": [
    {
     "name": "stdout",
     "output_type": "stream",
     "text": [
      "xsum-6-1\n"
     ]
    },
    {
     "data": {
      "application/vnd.jupyter.widget-view+json": {
       "model_id": "ee1552adaadb4c8a9fa1f404b02fdc9e",
       "version_major": 2,
       "version_minor": 0
      },
      "text/plain": [
       "Downloading:   0%|          | 0.00/1.49k [00:00<?, ?B/s]"
      ]
     },
     "metadata": {},
     "output_type": "display_data"
    },
    {
     "data": {
      "application/vnd.jupyter.widget-view+json": {
       "model_id": "d2e9209901974431a334b0cb3669e176",
       "version_major": 2,
       "version_minor": 0
      },
      "text/plain": [
       "Downloading:   0%|          | 0.00/210M [00:00<?, ?B/s]"
      ]
     },
     "metadata": {},
     "output_type": "display_data"
    },
    {
     "name": "stdout",
     "output_type": "stream",
     "text": [
      "<pad> A charity has said they are \"sa \"sappoint\" in Wales.</s>\n",
      "199 ms ± 39.9 µs per loop (mean ± std. dev. of 7 runs, 10 loops each)\n",
      "119 ms ± 259 µs per loop (mean ± std. dev. of 7 runs, 10 loops each)\n",
      "46.5 ms ± 76.2 µs per loop (mean ± std. dev. of 7 runs, 10 loops each)\n"
     ]
    }
   ],
   "source": [
    "print(\"xsum-6-1\")\n",
    "model = AutoModelForSeq2SeqLM.from_pretrained('spacemanidol/flan-t5-small-6-1-xsum').to('cuda')\n",
    "outputs = model.generate(input_ids_1)\n",
    "print(tokenizer.decode(outputs[0]))\n",
    "%timeit model.generate(input_ids_16)\n",
    "%timeit model.generate(input_ids_8)\n",
    "%timeit model.generate(input_ids_1)"
   ]
  },
  {
   "cell_type": "code",
   "execution_count": 10,
   "id": "d64bbbba",
   "metadata": {},
   "outputs": [
    {
     "name": "stdout",
     "output_type": "stream",
     "text": [
      "xsum-5-6\n"
     ]
    },
    {
     "data": {
      "application/vnd.jupyter.widget-view+json": {
       "model_id": "8107b80e365643a4ae7431cd4d22a80e",
       "version_major": 2,
       "version_minor": 0
      },
      "text/plain": [
       "Downloading:   0%|          | 0.00/1.49k [00:00<?, ?B/s]"
      ]
     },
     "metadata": {},
     "output_type": "display_data"
    },
    {
     "data": {
      "application/vnd.jupyter.widget-view+json": {
       "model_id": "c210ecef16954a5d8f6dcd8e24a55268",
       "version_major": 2,
       "version_minor": 0
      },
      "text/plain": [
       "Downloading:   0%|          | 0.00/276M [00:00<?, ?B/s]"
      ]
     },
     "metadata": {},
     "output_type": "display_data"
    },
    {
     "name": "stdout",
     "output_type": "stream",
     "text": [
      "<pad> A charity has said it is \"chronic\" to find suitable accommodation for prisoners who leave prison\n",
      "309 ms ± 1.38 ms per loop (mean ± std. dev. of 7 runs, 1 loop each)\n",
      "235 ms ± 1.08 ms per loop (mean ± std. dev. of 7 runs, 1 loop each)\n",
      "169 ms ± 664 µs per loop (mean ± std. dev. of 7 runs, 10 loops each)\n"
     ]
    }
   ],
   "source": [
    "print(\"xsum-5-6\")\n",
    "model = AutoModelForSeq2SeqLM.from_pretrained('spacemanidol/flan-t5-small-5-6-xsum').to('cuda')\n",
    "outputs = model.generate(input_ids_1)\n",
    "print(tokenizer.decode(outputs[0]))\n",
    "%timeit model.generate(input_ids_16)\n",
    "%timeit model.generate(input_ids_8)\n",
    "%timeit model.generate(input_ids_1)"
   ]
  },
  {
   "cell_type": "code",
   "execution_count": 11,
   "id": "fab4048f",
   "metadata": {},
   "outputs": [
    {
     "name": "stdout",
     "output_type": "stream",
     "text": [
      "xsum-4-6\n"
     ]
    },
    {
     "data": {
      "application/vnd.jupyter.widget-view+json": {
       "model_id": "a8aa6da20c2c4f24ba3ca82c4090cb12",
       "version_major": 2,
       "version_minor": 0
      },
      "text/plain": [
       "Downloading:   0%|          | 0.00/1.49k [00:00<?, ?B/s]"
      ]
     },
     "metadata": {},
     "output_type": "display_data"
    },
    {
     "data": {
      "application/vnd.jupyter.widget-view+json": {
       "model_id": "a64224f5847d4e20a7aac5e4a4eb71b1",
       "version_major": 2,
       "version_minor": 0
      },
      "text/plain": [
       "Downloading:   0%|          | 0.00/267M [00:00<?, ?B/s]"
      ]
     },
     "metadata": {},
     "output_type": "display_data"
    },
    {
     "name": "stdout",
     "output_type": "stream",
     "text": [
      "<pad> A charity has said it is \"serious\" to find suitable accommodation for ex-of\n",
      "288 ms ± 1.17 ms per loop (mean ± std. dev. of 7 runs, 1 loop each)\n",
      "224 ms ± 446 µs per loop (mean ± std. dev. of 7 runs, 1 loop each)\n",
      "168 ms ± 499 µs per loop (mean ± std. dev. of 7 runs, 10 loops each)\n"
     ]
    }
   ],
   "source": [
    "print(\"xsum-4-6\")\n",
    "model = AutoModelForSeq2SeqLM.from_pretrained('spacemanidol/flan-t5-small-4-6-xsum').to('cuda')\n",
    "outputs = model.generate(input_ids_1)\n",
    "print(tokenizer.decode(outputs[0]))\n",
    "%timeit model.generate(input_ids_16)\n",
    "%timeit model.generate(input_ids_8)\n",
    "%timeit model.generate(input_ids_1)"
   ]
  },
  {
   "cell_type": "code",
   "execution_count": 12,
   "id": "f5744772",
   "metadata": {},
   "outputs": [
    {
     "name": "stdout",
     "output_type": "stream",
     "text": [
      "xsum-3-6\n"
     ]
    },
    {
     "data": {
      "application/vnd.jupyter.widget-view+json": {
       "model_id": "78a3520298a34ae0bcf136a08171c712",
       "version_major": 2,
       "version_minor": 0
      },
      "text/plain": [
       "Downloading:   0%|          | 0.00/1.49k [00:00<?, ?B/s]"
      ]
     },
     "metadata": {},
     "output_type": "display_data"
    },
    {
     "data": {
      "application/vnd.jupyter.widget-view+json": {
       "model_id": "56e9740fca0b4b8c9ee0d142aca7ec90",
       "version_major": 2,
       "version_minor": 0
      },
      "text/plain": [
       "Downloading:   0%|          | 0.00/258M [00:00<?, ?B/s]"
      ]
     },
     "metadata": {},
     "output_type": "display_data"
    },
    {
     "name": "stdout",
     "output_type": "stream",
     "text": [
      "<pad> A charity has said it is \"shocking\" that a number of ex-of\n",
      "268 ms ± 927 µs per loop (mean ± std. dev. of 7 runs, 1 loop each)\n",
      "213 ms ± 1.61 ms per loop (mean ± std. dev. of 7 runs, 1 loop each)\n",
      "166 ms ± 211 µs per loop (mean ± std. dev. of 7 runs, 10 loops each)\n"
     ]
    }
   ],
   "source": [
    "print(\"xsum-3-6\")\n",
    "model = AutoModelForSeq2SeqLM.from_pretrained('spacemanidol/flan-t5-small-3-6-xsum').to('cuda')\n",
    "outputs = model.generate(input_ids_1)\n",
    "print(tokenizer.decode(outputs[0]))\n",
    "%timeit model.generate(input_ids_16)\n",
    "%timeit model.generate(input_ids_8)\n",
    "%timeit model.generate(input_ids_1)"
   ]
  },
  {
   "cell_type": "code",
   "execution_count": 12,
   "id": "6e6b62ac",
   "metadata": {},
   "outputs": [
    {
     "name": "stdout",
     "output_type": "stream",
     "text": [
      "cnn-2-6\n"
     ]
    },
    {
     "data": {
      "application/vnd.jupyter.widget-view+json": {
       "model_id": "81acf6a2653a4726836a147bb1bf0fd0",
       "version_major": 2,
       "version_minor": 0
      },
      "text/plain": [
       "Downloading:   0%|          | 0.00/1.49k [00:00<?, ?B/s]"
      ]
     },
     "metadata": {},
     "output_type": "display_data"
    },
    {
     "data": {
      "application/vnd.jupyter.widget-view+json": {
       "model_id": "47366e74fd344884bd9d2a2b32aee76e",
       "version_major": 2,
       "version_minor": 0
      },
      "text/plain": [
       "Downloading:   0%|          | 0.00/240M [00:00<?, ?B/s]"
      ]
     },
     "metadata": {},
     "output_type": "display_data"
    },
    {
     "name": "stdout",
     "output_type": "stream",
     "text": [
      "<pad> 123rd member of International Criminal Court on Wednesday. ICC says it is \n",
      "226 ms ± 625 µs per loop (mean ± std. dev. of 7 runs, 1 loop each)\n",
      "191 ms ± 332 µs per loop (mean ± std. dev. of 7 runs, 10 loops each)\n",
      "162 ms ± 351 µs per loop (mean ± std. dev. of 7 runs, 10 loops each)\n"
     ]
    }
   ],
   "source": [
    "print(\"xsum-2-6\")\n",
    "model = AutoModelForSeq2SeqLM.from_pretrained('spacemanidol/flan-t5-small-2-6-xsum').to('cuda')\n",
    "outputs = model.generate(input_ids_1)\n",
    "print(tokenizer.decode(outputs[0]))\n",
    "%timeit model.generate(input_ids_16)\n",
    "%timeit model.generate(input_ids_8)\n",
    "%timeit model.generate(input_ids_1)"
   ]
  },
  {
   "cell_type": "code",
   "execution_count": 13,
   "id": "f0875013",
   "metadata": {},
   "outputs": [
    {
     "name": "stdout",
     "output_type": "stream",
     "text": [
      "xsum-1-6\n"
     ]
    },
    {
     "data": {
      "application/vnd.jupyter.widget-view+json": {
       "model_id": "224a6dd774ae4cce8f0a21a86c69bb8e",
       "version_major": 2,
       "version_minor": 0
      },
      "text/plain": [
       "Downloading:   0%|          | 0.00/1.49k [00:00<?, ?B/s]"
      ]
     },
     "metadata": {},
     "output_type": "display_data"
    },
    {
     "data": {
      "application/vnd.jupyter.widget-view+json": {
       "model_id": "40bd6626887a4b9aa066ccbedc7b327b",
       "version_major": 2,
       "version_minor": 0
      },
      "text/plain": [
       "Downloading:   0%|          | 0.00/231M [00:00<?, ?B/s]"
      ]
     },
     "metadata": {},
     "output_type": "display_data"
    },
    {
     "name": "stdout",
     "output_type": "stream",
     "text": [
      "<pad> A charity has said it is \"not a good idea\" to give a new home\n",
      "211 ms ± 1.09 ms per loop (mean ± std. dev. of 7 runs, 1 loop each)\n",
      "184 ms ± 208 µs per loop (mean ± std. dev. of 7 runs, 10 loops each)\n",
      "164 ms ± 376 µs per loop (mean ± std. dev. of 7 runs, 10 loops each)\n"
     ]
    }
   ],
   "source": [
    "print(\"xsum-1-6\")\n",
    "model = AutoModelForSeq2SeqLM.from_pretrained('spacemanidol/flan-t5-small-1-6-xsum').to('cuda')\n",
    "outputs = model.generate(input_ids_1)\n",
    "print(tokenizer.decode(outputs[0]))\n",
    "%timeit model.generate(input_ids_16)\n",
    "%timeit model.generate(input_ids_8)\n",
    "%timeit model.generate(input_ids_1)"
   ]
  },
  {
   "cell_type": "code",
   "execution_count": 14,
   "id": "e1023796",
   "metadata": {},
   "outputs": [
    {
     "name": "stdout",
     "output_type": "stream",
     "text": [
      "xsum-5-5\n"
     ]
    },
    {
     "data": {
      "application/vnd.jupyter.widget-view+json": {
       "model_id": "9ad2a65920a54afa9b1abd3d37fc00d5",
       "version_major": 2,
       "version_minor": 0
      },
      "text/plain": [
       "Downloading:   0%|          | 0.00/1.49k [00:00<?, ?B/s]"
      ]
     },
     "metadata": {},
     "output_type": "display_data"
    },
    {
     "data": {
      "application/vnd.jupyter.widget-view+json": {
       "model_id": "0ae9418537d44ca69d9258d515288dd1",
       "version_major": 2,
       "version_minor": 0
      },
      "text/plain": [
       "Downloading:   0%|          | 0.00/252M [00:00<?, ?B/s]"
      ]
     },
     "metadata": {},
     "output_type": "display_data"
    },
    {
     "name": "stdout",
     "output_type": "stream",
     "text": [
      "<pad> A charity has said it is \"chronic\" to find suitable accommodation for ex-offenders\n",
      "267 ms ± 948 µs per loop (mean ± std. dev. of 7 runs, 1 loop each)\n",
      "196 ms ± 591 µs per loop (mean ± std. dev. of 7 runs, 10 loops each)\n",
      "133 ms ± 332 µs per loop (mean ± std. dev. of 7 runs, 10 loops each)\n"
     ]
    }
   ],
   "source": [
    "print(\"xsum-5-5\")\n",
    "model = AutoModelForSeq2SeqLM.from_pretrained('spacemanidol/flan-t5-small-5-5-xsum').to('cuda')\n",
    "outputs = model.generate(input_ids_1)\n",
    "print(tokenizer.decode(outputs[0]))\n",
    "%timeit model.generate(input_ids_16)\n",
    "%timeit model.generate(input_ids_8)\n",
    "%timeit model.generate(input_ids_1)"
   ]
  },
  {
   "cell_type": "code",
   "execution_count": 15,
   "id": "8f33c0f7",
   "metadata": {},
   "outputs": [
    {
     "name": "stdout",
     "output_type": "stream",
     "text": [
      "xsum-4-4\n"
     ]
    },
    {
     "data": {
      "application/vnd.jupyter.widget-view+json": {
       "model_id": "57198ec097ac4179a9a796dc62ad9c88",
       "version_major": 2,
       "version_minor": 0
      },
      "text/plain": [
       "Downloading:   0%|          | 0.00/1.49k [00:00<?, ?B/s]"
      ]
     },
     "metadata": {},
     "output_type": "display_data"
    },
    {
     "data": {
      "application/vnd.jupyter.widget-view+json": {
       "model_id": "2d46e32e5f5a4ec1ac5648550ddd3994",
       "version_major": 2,
       "version_minor": 0
      },
      "text/plain": [
       "Downloading:   0%|          | 0.00/231M [00:00<?, ?B/s]"
      ]
     },
     "metadata": {},
     "output_type": "display_data"
    },
    {
     "name": "stdout",
     "output_type": "stream",
     "text": [
      "<pad> A charity has found stable accommodation for ex-offenders in Wales to help tackle housing problems.\n",
      "225 ms ± 838 µs per loop (mean ± std. dev. of 7 runs, 1 loop each)\n",
      "166 ms ± 557 µs per loop (mean ± std. dev. of 7 runs, 10 loops each)\n",
      "115 ms ± 591 µs per loop (mean ± std. dev. of 7 runs, 10 loops each)\n"
     ]
    }
   ],
   "source": [
    "print(\"xsum-4-4\")\n",
    "model = AutoModelForSeq2SeqLM.from_pretrained('spacemanidol/flan-t5-small-4-4-xsum').to('cuda')\n",
    "outputs = model.generate(input_ids_1)\n",
    "print(tokenizer.decode(outputs[0]))\n",
    "%timeit model.generate(input_ids_16)\n",
    "%timeit model.generate(input_ids_8)\n",
    "%timeit model.generate(input_ids_1)"
   ]
  },
  {
   "cell_type": "code",
   "execution_count": 16,
   "id": "24ca0eab",
   "metadata": {},
   "outputs": [
    {
     "name": "stdout",
     "output_type": "stream",
     "text": [
      "xsum-3-3\n"
     ]
    },
    {
     "data": {
      "application/vnd.jupyter.widget-view+json": {
       "model_id": "710370e63a4544eeb624f5e6f3b7fc48",
       "version_major": 2,
       "version_minor": 0
      },
      "text/plain": [
       "Downloading:   0%|          | 0.00/1.49k [00:00<?, ?B/s]"
      ]
     },
     "metadata": {},
     "output_type": "display_data"
    },
    {
     "data": {
      "application/vnd.jupyter.widget-view+json": {
       "model_id": "61a6c2b1f3f34b4fb7aa3f13afecf21d",
       "version_major": 2,
       "version_minor": 0
      },
      "text/plain": [
       "Downloading:   0%|          | 0.00/210M [00:00<?, ?B/s]"
      ]
     },
     "metadata": {},
     "output_type": "display_data"
    },
    {
     "name": "stdout",
     "output_type": "stream",
     "text": [
      "<pad> A charity has said it is \"a desperate need\" for accommodation for prisoners who are leaving prison\n",
      "185 ms ± 479 µs per loop (mean ± std. dev. of 7 runs, 10 loops each)\n",
      "137 ms ± 234 µs per loop (mean ± std. dev. of 7 runs, 10 loops each)\n",
      "95.8 ms ± 235 µs per loop (mean ± std. dev. of 7 runs, 10 loops each)\n"
     ]
    }
   ],
   "source": [
    "print(\"xsum-3-3\")\n",
    "model = AutoModelForSeq2SeqLM.from_pretrained('spacemanidol/flan-t5-small-3-3-xsum').to('cuda')\n",
    "outputs = model.generate(input_ids_1)\n",
    "print(tokenizer.decode(outputs[0]))\n",
    "%timeit model.generate(input_ids_16)\n",
    "%timeit model.generate(input_ids_8)\n",
    "%timeit model.generate(input_ids_1)"
   ]
  },
  {
   "cell_type": "code",
   "execution_count": 17,
   "id": "156ffa5f",
   "metadata": {},
   "outputs": [
    {
     "name": "stdout",
     "output_type": "stream",
     "text": [
      "xsum-2-2\n"
     ]
    },
    {
     "data": {
      "application/vnd.jupyter.widget-view+json": {
       "model_id": "ce22d90f60fe48d8b01336cb7a39f0c7",
       "version_major": 2,
       "version_minor": 0
      },
      "text/plain": [
       "Downloading:   0%|          | 0.00/1.49k [00:00<?, ?B/s]"
      ]
     },
     "metadata": {},
     "output_type": "display_data"
    },
    {
     "data": {
      "application/vnd.jupyter.widget-view+json": {
       "model_id": "e5f6e2bb97ab4ff381a61dc360f4cc58",
       "version_major": 2,
       "version_minor": 0
      },
      "text/plain": [
       "Downloading:   0%|          | 0.00/168M [00:00<?, ?B/s]"
      ]
     },
     "metadata": {},
     "output_type": "display_data"
    },
    {
     "name": "stdout",
     "output_type": "stream",
     "text": [
      "<pad> A charity has said it is \"nothing of the way\" to find accommodation in Wales\n",
      "104 ms ± 233 µs per loop (mean ± std. dev. of 7 runs, 10 loops each)\n",
      "79.8 ms ± 120 µs per loop (mean ± std. dev. of 7 runs, 10 loops each)\n",
      "58.4 ms ± 117 µs per loop (mean ± std. dev. of 7 runs, 10 loops each)\n"
     ]
    }
   ],
   "source": [
    "print(\"xsum-2-2\")\n",
    "model = AutoModelForSeq2SeqLM.from_pretrained('spacemanidol/flan-t5-small-2-2-xsum').to('cuda')\n",
    "outputs = model.generate(input_ids_1)\n",
    "print(tokenizer.decode(outputs[0]))\n",
    "%timeit model.generate(input_ids_16)\n",
    "%timeit model.generate(input_ids_8)\n",
    "%timeit model.generate(input_ids_1)"
   ]
  },
  {
   "cell_type": "code",
   "execution_count": 18,
   "id": "39970aee",
   "metadata": {},
   "outputs": [
    {
     "name": "stdout",
     "output_type": "stream",
     "text": [
      "xsum-1-1\n"
     ]
    },
    {
     "data": {
      "application/vnd.jupyter.widget-view+json": {
       "model_id": "5c6b4be2ffc543a486f2bfe7789f0d1c",
       "version_major": 2,
       "version_minor": 0
      },
      "text/plain": [
       "Downloading:   0%|          | 0.00/1.49k [00:00<?, ?B/s]"
      ]
     },
     "metadata": {},
     "output_type": "display_data"
    },
    {
     "data": {
      "application/vnd.jupyter.widget-view+json": {
       "model_id": "710ecb275879444281840b7839afdbfc",
       "version_major": 2,
       "version_minor": 0
      },
      "text/plain": [
       "Downloading:   0%|          | 0.00/147M [00:00<?, ?B/s]"
      ]
     },
     "metadata": {},
     "output_type": "display_data"
    },
    {
     "name": "stdout",
     "output_type": "stream",
     "text": [
      "<pad> A charity has been a \"sappoint\" offenders in Wales.</s>\n",
      "64.1 ms ± 92.3 µs per loop (mean ± std. dev. of 7 runs, 10 loops each)\n",
      "51.2 ms ± 219 µs per loop (mean ± std. dev. of 7 runs, 10 loops each)\n",
      "37.9 ms ± 116 µs per loop (mean ± std. dev. of 7 runs, 10 loops each)\n"
     ]
    }
   ],
   "source": [
    "print(\"xsum-1-1\")\n",
    "model = AutoModelForSeq2SeqLM.from_pretrained('spacemanidol/flan-t5-small-1-1-xsum').to('cuda')\n",
    "outputs = model.generate(input_ids_1)\n",
    "print(tokenizer.decode(outputs[0]))\n",
    "%timeit model.generate(input_ids_16)\n",
    "%timeit model.generate(input_ids_8)\n",
    "%timeit model.generate(input_ids_1)"
   ]
  },
  {
   "cell_type": "code",
   "execution_count": null,
   "id": "bf5242c3",
   "metadata": {},
   "outputs": [],
   "source": []
  }
 ],
 "metadata": {
  "kernelspec": {
   "display_name": "Python 3 (ipykernel)",
   "language": "python",
   "name": "python3"
  },
  "language_info": {
   "codemirror_mode": {
    "name": "ipython",
    "version": 3
   },
   "file_extension": ".py",
   "mimetype": "text/x-python",
   "name": "python",
   "nbconvert_exporter": "python",
   "pygments_lexer": "ipython3",
   "version": "3.8.13"
  }
 },
 "nbformat": 4,
 "nbformat_minor": 5
}
