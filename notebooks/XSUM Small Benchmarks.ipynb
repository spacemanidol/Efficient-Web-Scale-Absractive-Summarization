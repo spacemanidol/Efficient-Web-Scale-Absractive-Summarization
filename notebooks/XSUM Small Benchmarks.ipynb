{
 "cells": [
  {
   "cell_type": "code",
   "execution_count": 1,
   "id": "587649fd",
   "metadata": {},
   "outputs": [
    {
     "name": "stderr",
     "output_type": "stream",
     "text": [
      "/home/ubuntu/.local/lib/python3.8/site-packages/pandas/core/computation/expressions.py:20: UserWarning: Pandas requires version '2.7.3' or newer of 'numexpr' (version '2.7.1' currently installed).\n",
      "  from pandas.core.computation.check import NUMEXPR_INSTALLED\n",
      "Found cached dataset xsum (/home/ubuntu/.cache/huggingface/datasets/xsum/default/1.2.0/082863bf4754ee058a5b6f6525d0cb2b18eadb62c7b370b095d1364050a52b71)\n"
     ]
    },
    {
     "data": {
      "application/vnd.jupyter.widget-view+json": {
       "model_id": "3bef75de3c3d41c68844268ce02413bc",
       "version_major": 2,
       "version_minor": 0
      },
      "text/plain": [
       "  0%|          | 0/3 [00:00<?, ?it/s]"
      ]
     },
     "metadata": {},
     "output_type": "display_data"
    },
    {
     "name": "stdout",
     "output_type": "stream",
     "text": [
      "['Prison Link Cymru had 1,099 referrals in 2015-16 and said some ex-offenders were living rough for up to a year before finding suitable accommodation.\\nWorkers at the charity claim investment in housing would be cheaper than jailing homeless repeat offenders.\\nThe Welsh Government said more people than ever were getting help to address housing problems.\\nChanges to the Housing Act in Wales, introduced in 2015, removed the right for prison leavers to be given priority for accommodation.\\nPrison Link Cymru, which helps people find accommodation after their release, said things were generally good for women because issues such as children or domestic violence were now considered.\\nHowever, the same could not be said for men, the charity said, because issues which often affect them, such as post traumatic stress disorder or drug dependency, were often viewed as less of a priority.\\nAndrew Stevens, who works in Welsh prisons trying to secure housing for prison leavers, said the need for accommodation was \"chronic\".\\n\"There\\'s a desperate need for it, finding suitable accommodation for those leaving prison there is just a lack of it everywhere,\" he said.\\n\"It could take six months to a year, without a lot of help they could be on the streets for six months.\\n\"When you think of the consequences of either being on the street, especially with the cold weather at the moment or you may have a roof over your head, sometimes there is only one choice.\"\\nMr Stevens believes building more one-bedroom flats could help ease the problem.\\n\"The average price is a hundred pounds a week to keep someone in a rented flat, prison is a lot more than that so I would imagine it would save the public purse quite a few pounds,\" he said.\\nOfficial figures show 830 one-bedroom properties were built in the year to March 2016, of an overall total of 6,900 new properties in Wales.\\nMarc, 50, who has been in and out of prison for the past 20 years for burglary offences, said he struggled to find accommodation each time he was released.\\nHe said he would ask himself: \"Where am I going to stay? Where am I going to live? Have I got somewhere where I can see my daughter.\"\\n\"You\\'re put out among the same sort of people doing the same sort of thing, and it\\'s difficult, it\\'s difficult to get away from it. It\\'s like every man for himself, there\\'s nothing.\"\\nMarc has now found stable accommodation with homeless charity Emmaus and said it had been life changing.\\n\"You feel safe, you got hot food, you\\'ve got company of people in similar situations to yourself but all dealing with different issues. It\\'s a constructive, helpful atmosphere,\" he said.\\nTom Clarke, chief executive of Emmaus South Wales, agreed there was not enough support available.\\n\"We do still see [people] homeless on the streets, so clearly they haven\\'t got accommodation and haven\\'t got provision,\" he said.\\n\"I think the key is connecting people with the services they need. I don\\'t delude myself that Emmaus can offer a one size fits all for everyone, we can\\'t.\\n\"But there must be other opportunities and given suitable encouragement I believe that can and should happen.\"\\nA Welsh Government spokesman said the national pathway for homeless services to children, young people and adults in the secure estate had prevented many people from losing their home whilst serving their prison sentence.\\nIt added there were already significant demands for one-bedroom flats across the public and private sector and it was providing 20,000 new affordable homes in the next five years.']\n",
      "['There is a \"chronic\" need for more housing for prison leavers in Wales, according to a charity.']\n"
     ]
    }
   ],
   "source": [
    "import datasets\n",
    "from transformers import AutoModelForSeq2SeqLM, AutoTokenizer\n",
    "\n",
    "\n",
    "tokenizer = AutoTokenizer.from_pretrained('spacemanidol/flan-t5-small-6-5-xsum')\n",
    "dataset = datasets.load_dataset('xsum')\n",
    "\n",
    "samples16 = dataset['test']['document'][0:16]\n",
    "samples8 = dataset['test']['document'][0:8]\n",
    "samples1 = dataset['test']['document'][0:1]\n",
    "print(dataset['test']['document'][0:1])\n",
    "print(dataset['test']['summary'][0:1])\n",
    "input_ids_16 = tokenizer(samples16, return_tensors=\"pt\", padding=True, truncation=True, max_length=1024).input_ids.to('cuda')\n",
    "input_ids_8 = tokenizer(samples8, return_tensors=\"pt\", padding=True, truncation=True, max_length=1024).input_ids.to('cuda')\n",
    "input_ids_1 = tokenizer(samples1, return_tensors=\"pt\", padding=True, truncation=True, max_length=1024).input_ids.to('cuda')"
   ]
  },
  {
   "cell_type": "markdown",
   "id": "c38adc21",
   "metadata": {},
   "source": [
    "Small Models"
   ]
  },
  {
   "cell_type": "code",
   "execution_count": 17,
   "id": "dbc3c3ec",
   "metadata": {},
   "outputs": [
    {
     "name": "stdout",
     "output_type": "stream",
     "text": [
      "xsum-6-6\n",
      "<pad> A charity has said it is \"disappointed\" that some ex-offenders are living\n",
      "332 ms ± 1.91 ms per loop (mean ± std. dev. of 7 runs, 1 loop each)\n",
      "227 ms ± 3.51 ms per loop (mean ± std. dev. of 7 runs, 1 loop each)\n",
      "135 ms ± 2.73 ms per loop (mean ± std. dev. of 7 runs, 10 loops each)\n"
     ]
    }
   ],
   "source": [
    "print(\"xsum-6-6\")\n",
    "model = AutoModelForSeq2SeqLM.from_pretrained('spacemanidol/flan-t5-small-xsum').to('cuda')\n",
    "outputs = model.generate(input_ids_1)\n",
    "print(tokenizer.decode(outputs[0]))\n",
    "%timeit model.generate(input_ids_16)\n",
    "%timeit model.generate(input_ids_8)\n",
    "%timeit model.generate(input_ids_1)"
   ]
  },
  {
   "cell_type": "code",
   "execution_count": 2,
   "id": "a0b65a82",
   "metadata": {},
   "outputs": [
    {
     "name": "stdout",
     "output_type": "stream",
     "text": [
      "xsum-6-5\n"
     ]
    },
    {
     "name": "stderr",
     "output_type": "stream",
     "text": [
      "/home/ubuntu/.local/lib/python3.8/site-packages/transformers/generation/utils.py:1288: UserWarning: Using `max_length`'s default (20) to control the generation length. This behaviour is deprecated and will be removed from the config in v5 of Transformers -- we recommend using `max_new_tokens` to control the maximum length of the generation.\n",
      "  warnings.warn(\n"
     ]
    },
    {
     "name": "stdout",
     "output_type": "stream",
     "text": [
      "<pad> A charity has said it is \"a desperate need\" for accommodation for prisoners who leave prison.\n"
     ]
    },
    {
     "name": "stderr",
     "output_type": "stream",
     "text": [
      "/home/ubuntu/.local/lib/python3.8/site-packages/transformers/generation/utils.py:1288: UserWarning: Using `max_length`'s default (20) to control the generation length. This behaviour is deprecated and will be removed from the config in v5 of Transformers -- we recommend using `max_new_tokens` to control the maximum length of the generation.\n",
      "  warnings.warn(\n"
     ]
    },
    {
     "name": "stdout",
     "output_type": "stream",
     "text": [
      "303 ms ± 7.95 ms per loop (mean ± std. dev. of 7 runs, 1 loop each)\n",
      "196 ms ± 1.94 ms per loop (mean ± std. dev. of 7 runs, 10 loops each)\n",
      "108 ms ± 1.7 ms per loop (mean ± std. dev. of 7 runs, 10 loops each)\n"
     ]
    }
   ],
   "source": [
    "print(\"xsum-6-5\")\n",
    "model = AutoModelForSeq2SeqLM.from_pretrained('spacemanidol/flan-t5-small-6-5-xsum').to('cuda')\n",
    "outputs = model.generate(input_ids_1)\n",
    "print(tokenizer.decode(outputs[0]))\n",
    "%timeit model.generate(input_ids_16)\n",
    "%timeit model.generate(input_ids_8)\n",
    "%timeit model.generate(input_ids_1)"
   ]
  },
  {
   "cell_type": "code",
   "execution_count": 3,
   "id": "6234bdfe",
   "metadata": {},
   "outputs": [
    {
     "name": "stdout",
     "output_type": "stream",
     "text": [
      "xsum-6-4\n",
      "<pad> A charity has said it is \"a desperate need\" for housing for ex-offenders who\n",
      "281 ms ± 6.77 ms per loop (mean ± std. dev. of 7 runs, 1 loop each)\n",
      "183 ms ± 3.43 ms per loop (mean ± std. dev. of 7 runs, 10 loops each)\n",
      "94.1 ms ± 3.02 ms per loop (mean ± std. dev. of 7 runs, 10 loops each)\n"
     ]
    }
   ],
   "source": [
    "print(\"xsum-6-4\")\n",
    "model = AutoModelForSeq2SeqLM.from_pretrained('spacemanidol/flan-t5-small-6-4-xsum').to('cuda')\n",
    "outputs = model.generate(input_ids_1)\n",
    "print(tokenizer.decode(outputs[0]))\n",
    "%timeit model.generate(input_ids_16)\n",
    "%timeit model.generate(input_ids_8)\n",
    "%timeit model.generate(input_ids_1)"
   ]
  },
  {
   "cell_type": "code",
   "execution_count": 4,
   "id": "78da908c",
   "metadata": {},
   "outputs": [
    {
     "name": "stdout",
     "output_type": "stream",
     "text": [
      "xsum-6-3\n",
      "<pad> A charity has said it is \"a desperate need\" for housing for ex-offenders who\n",
      "263 ms ± 2.24 ms per loop (mean ± std. dev. of 7 runs, 1 loop each)\n",
      "168 ms ± 2.33 ms per loop (mean ± std. dev. of 7 runs, 10 loops each)\n",
      "82.7 ms ± 2.66 ms per loop (mean ± std. dev. of 7 runs, 10 loops each)\n"
     ]
    }
   ],
   "source": [
    "print(\"xsum-6-3\")\n",
    "model = AutoModelForSeq2SeqLM.from_pretrained('spacemanidol/flan-t5-small-6-3-xsum').to('cuda')\n",
    "outputs = model.generate(input_ids_1)\n",
    "print(tokenizer.decode(outputs[0]))\n",
    "%timeit model.generate(input_ids_16)\n",
    "%timeit model.generate(input_ids_8)\n",
    "%timeit model.generate(input_ids_1)"
   ]
  },
  {
   "cell_type": "code",
   "execution_count": 5,
   "id": "b22a20c0",
   "metadata": {},
   "outputs": [
    {
     "name": "stdout",
     "output_type": "stream",
     "text": [
      "xsum-6-2\n",
      "<pad> A homeless charity has said it could help alleviate a shortage of accommodation for prisoners in prison\n",
      "234 ms ± 5.01 ms per loop (mean ± std. dev. of 7 runs, 1 loop each)\n",
      "141 ms ± 1.53 ms per loop (mean ± std. dev. of 7 runs, 10 loops each)\n",
      "55.8 ms ± 1.72 ms per loop (mean ± std. dev. of 7 runs, 10 loops each)\n"
     ]
    }
   ],
   "source": [
    "print(\"xsum-6-2\")\n",
    "model = AutoModelForSeq2SeqLM.from_pretrained('spacemanidol/flan-t5-small-6-2-xsum').to('cuda')\n",
    "outputs = model.generate(input_ids_1)\n",
    "print(tokenizer.decode(outputs[0]))\n",
    "%timeit model.generate(input_ids_16)\n",
    "%timeit model.generate(input_ids_8)\n",
    "%timeit model.generate(input_ids_1)"
   ]
  },
  {
   "cell_type": "code",
   "execution_count": 6,
   "id": "d3f6519e",
   "metadata": {},
   "outputs": [
    {
     "name": "stdout",
     "output_type": "stream",
     "text": [
      "xsum-6-1\n",
      "<pad> A charity has said they are \"sa \"sappoint\" in Wales.</s>\n",
      "215 ms ± 4.69 ms per loop (mean ± std. dev. of 7 runs, 1 loop each)\n",
      "124 ms ± 414 µs per loop (mean ± std. dev. of 7 runs, 10 loops each)\n",
      "41.1 ms ± 641 µs per loop (mean ± std. dev. of 7 runs, 10 loops each)\n"
     ]
    }
   ],
   "source": [
    "print(\"xsum-6-1\")\n",
    "model = AutoModelForSeq2SeqLM.from_pretrained('spacemanidol/flan-t5-small-6-1-xsum').to('cuda')\n",
    "outputs = model.generate(input_ids_1)\n",
    "print(tokenizer.decode(outputs[0]))\n",
    "%timeit model.generate(input_ids_16)\n",
    "%timeit model.generate(input_ids_8)\n",
    "%timeit model.generate(input_ids_1)"
   ]
  },
  {
   "cell_type": "code",
   "execution_count": 7,
   "id": "63499237",
   "metadata": {},
   "outputs": [
    {
     "name": "stdout",
     "output_type": "stream",
     "text": [
      "xsum-5-6\n",
      "<pad> A charity has said it is \"chronic\" to find suitable accommodation for prisoners who leave prison\n",
      "295 ms ± 5.72 ms per loop (mean ± std. dev. of 7 runs, 1 loop each)\n",
      "204 ms ± 3.63 ms per loop (mean ± std. dev. of 7 runs, 1 loop each)\n",
      "133 ms ± 3.51 ms per loop (mean ± std. dev. of 7 runs, 10 loops each)\n"
     ]
    }
   ],
   "source": [
    "print(\"xsum-5-6\")\n",
    "model = AutoModelForSeq2SeqLM.from_pretrained('spacemanidol/flan-t5-small-5-6-xsum').to('cuda')\n",
    "outputs = model.generate(input_ids_1)\n",
    "print(tokenizer.decode(outputs[0]))\n",
    "%timeit model.generate(input_ids_16)\n",
    "%timeit model.generate(input_ids_8)\n",
    "%timeit model.generate(input_ids_1)"
   ]
  },
  {
   "cell_type": "code",
   "execution_count": 8,
   "id": "33cd51e0",
   "metadata": {},
   "outputs": [
    {
     "name": "stdout",
     "output_type": "stream",
     "text": [
      "xsum-4-6\n",
      "<pad> A charity has said it is \"serious\" to find suitable accommodation for ex-of\n",
      "273 ms ± 10.4 ms per loop (mean ± std. dev. of 7 runs, 1 loop each)\n",
      "193 ms ± 3.76 ms per loop (mean ± std. dev. of 7 runs, 10 loops each)\n",
      "134 ms ± 3.42 ms per loop (mean ± std. dev. of 7 runs, 10 loops each)\n"
     ]
    }
   ],
   "source": [
    "print(\"xsum-4-6\")\n",
    "model = AutoModelForSeq2SeqLM.from_pretrained('spacemanidol/flan-t5-small-4-6-xsum').to('cuda')\n",
    "outputs = model.generate(input_ids_1)\n",
    "print(tokenizer.decode(outputs[0]))\n",
    "%timeit model.generate(input_ids_16)\n",
    "%timeit model.generate(input_ids_8)\n",
    "%timeit model.generate(input_ids_1)"
   ]
  },
  {
   "cell_type": "code",
   "execution_count": 9,
   "id": "5b0f57ea",
   "metadata": {},
   "outputs": [
    {
     "name": "stdout",
     "output_type": "stream",
     "text": [
      "xsum-3-6\n",
      "<pad> A charity has said it is \"shocking\" that a number of ex-of\n",
      "245 ms ± 6.45 ms per loop (mean ± std. dev. of 7 runs, 1 loop each)\n",
      "185 ms ± 13.6 ms per loop (mean ± std. dev. of 7 runs, 1 loop each)\n",
      "130 ms ± 2.77 ms per loop (mean ± std. dev. of 7 runs, 10 loops each)\n"
     ]
    }
   ],
   "source": [
    "print(\"xsum-3-6\")\n",
    "model = AutoModelForSeq2SeqLM.from_pretrained('spacemanidol/flan-t5-small-3-6-xsum').to('cuda')\n",
    "outputs = model.generate(input_ids_1)\n",
    "print(tokenizer.decode(outputs[0]))\n",
    "%timeit model.generate(input_ids_16)\n",
    "%timeit model.generate(input_ids_8)\n",
    "%timeit model.generate(input_ids_1)"
   ]
  },
  {
   "cell_type": "code",
   "execution_count": 10,
   "id": "969425a7",
   "metadata": {},
   "outputs": [
    {
     "name": "stdout",
     "output_type": "stream",
     "text": [
      "xsum-2-6\n",
      "<pad> A charity has said it is \"disappointing\" to find suitable accommodation for homeless\n",
      "203 ms ± 4.1 ms per loop (mean ± std. dev. of 7 runs, 10 loops each)\n",
      "163 ms ± 6 ms per loop (mean ± std. dev. of 7 runs, 10 loops each)\n",
      "126 ms ± 4.77 ms per loop (mean ± std. dev. of 7 runs, 10 loops each)\n"
     ]
    }
   ],
   "source": [
    "print(\"xsum-2-6\")\n",
    "model = AutoModelForSeq2SeqLM.from_pretrained('spacemanidol/flan-t5-small-2-6-xsum').to('cuda')\n",
    "outputs = model.generate(input_ids_1)\n",
    "print(tokenizer.decode(outputs[0]))\n",
    "%timeit model.generate(input_ids_16)\n",
    "%timeit model.generate(input_ids_8)\n",
    "%timeit model.generate(input_ids_1)"
   ]
  },
  {
   "cell_type": "code",
   "execution_count": 11,
   "id": "74435ed1",
   "metadata": {},
   "outputs": [
    {
     "name": "stdout",
     "output_type": "stream",
     "text": [
      "xsum-1-6\n",
      "<pad> A charity has said it is \"not a good idea\" to give a new home\n",
      "180 ms ± 2.85 ms per loop (mean ± std. dev. of 7 runs, 10 loops each)\n",
      "148 ms ± 2.02 ms per loop (mean ± std. dev. of 7 runs, 10 loops each)\n",
      "126 ms ± 3.38 ms per loop (mean ± std. dev. of 7 runs, 10 loops each)\n"
     ]
    }
   ],
   "source": [
    "print(\"xsum-1-6\")\n",
    "model = AutoModelForSeq2SeqLM.from_pretrained('spacemanidol/flan-t5-small-1-6-xsum').to('cuda')\n",
    "outputs = model.generate(input_ids_1)\n",
    "print(tokenizer.decode(outputs[0]))\n",
    "%timeit model.generate(input_ids_16)\n",
    "%timeit model.generate(input_ids_8)\n",
    "%timeit model.generate(input_ids_1)"
   ]
  },
  {
   "cell_type": "code",
   "execution_count": 12,
   "id": "3fc3f8ef",
   "metadata": {},
   "outputs": [
    {
     "name": "stdout",
     "output_type": "stream",
     "text": [
      "xsum-5-5\n",
      "<pad> A charity has said it is \"chronic\" to find suitable accommodation for ex-offenders\n",
      "254 ms ± 2.37 ms per loop (mean ± std. dev. of 7 runs, 1 loop each)\n",
      "178 ms ± 3.24 ms per loop (mean ± std. dev. of 7 runs, 10 loops each)\n",
      "104 ms ± 452 µs per loop (mean ± std. dev. of 7 runs, 10 loops each)\n"
     ]
    }
   ],
   "source": [
    "print(\"xsum-5-5\")\n",
    "model = AutoModelForSeq2SeqLM.from_pretrained('spacemanidol/flan-t5-small-5-5-xsum').to('cuda')\n",
    "outputs = model.generate(input_ids_1)\n",
    "print(tokenizer.decode(outputs[0]))\n",
    "%timeit model.generate(input_ids_16)\n",
    "%timeit model.generate(input_ids_8)\n",
    "%timeit model.generate(input_ids_1)"
   ]
  },
  {
   "cell_type": "code",
   "execution_count": 13,
   "id": "026ba677",
   "metadata": {},
   "outputs": [
    {
     "name": "stdout",
     "output_type": "stream",
     "text": [
      "xsum-4-4\n",
      "<pad> A charity has found stable accommodation for ex-offenders in Wales to help tackle housing problems.\n",
      "219 ms ± 10.3 ms per loop (mean ± std. dev. of 7 runs, 1 loop each)\n",
      "151 ms ± 1.78 ms per loop (mean ± std. dev. of 7 runs, 10 loops each)\n",
      "91.6 ms ± 2.1 ms per loop (mean ± std. dev. of 7 runs, 10 loops each)\n"
     ]
    }
   ],
   "source": [
    "print(\"xsum-4-4\")\n",
    "model = AutoModelForSeq2SeqLM.from_pretrained('spacemanidol/flan-t5-small-4-4-xsum').to('cuda')\n",
    "outputs = model.generate(input_ids_1)\n",
    "print(tokenizer.decode(outputs[0]))\n",
    "%timeit model.generate(input_ids_16)\n",
    "%timeit model.generate(input_ids_8)\n",
    "%timeit model.generate(input_ids_1)"
   ]
  },
  {
   "cell_type": "code",
   "execution_count": 14,
   "id": "2c2100e8",
   "metadata": {},
   "outputs": [
    {
     "name": "stdout",
     "output_type": "stream",
     "text": [
      "xsum-3-3\n",
      "<pad> A charity has said it is \"a desperate need\" for accommodation for prisoners who are leaving prison\n",
      "178 ms ± 1.59 ms per loop (mean ± std. dev. of 7 runs, 10 loops each)\n",
      "124 ms ± 2.42 ms per loop (mean ± std. dev. of 7 runs, 10 loops each)\n",
      "79 ms ± 3.38 ms per loop (mean ± std. dev. of 7 runs, 10 loops each)\n"
     ]
    }
   ],
   "source": [
    "print(\"xsum-3-3\")\n",
    "model = AutoModelForSeq2SeqLM.from_pretrained('spacemanidol/flan-t5-small-3-3-xsum').to('cuda')\n",
    "outputs = model.generate(input_ids_1)\n",
    "print(tokenizer.decode(outputs[0]))\n",
    "%timeit model.generate(input_ids_16)\n",
    "%timeit model.generate(input_ids_8)\n",
    "%timeit model.generate(input_ids_1)"
   ]
  },
  {
   "cell_type": "code",
   "execution_count": 15,
   "id": "50af74fd",
   "metadata": {},
   "outputs": [
    {
     "name": "stdout",
     "output_type": "stream",
     "text": [
      "xsum-2-2\n",
      "<pad> A charity has said it is \"nothing of the way\" to find accommodation in Wales\n",
      "101 ms ± 719 µs per loop (mean ± std. dev. of 7 runs, 10 loops each)\n",
      "74.8 ms ± 1.9 ms per loop (mean ± std. dev. of 7 runs, 10 loops each)\n",
      "49.5 ms ± 2.56 ms per loop (mean ± std. dev. of 7 runs, 10 loops each)\n"
     ]
    }
   ],
   "source": [
    "print(\"xsum-2-2\")\n",
    "model = AutoModelForSeq2SeqLM.from_pretrained('spacemanidol/flan-t5-small-2-2-xsum').to('cuda')\n",
    "outputs = model.generate(input_ids_1)\n",
    "print(tokenizer.decode(outputs[0]))\n",
    "%timeit model.generate(input_ids_16)\n",
    "%timeit model.generate(input_ids_8)\n",
    "%timeit model.generate(input_ids_1)"
   ]
  },
  {
   "cell_type": "code",
   "execution_count": 16,
   "id": "7733893d",
   "metadata": {},
   "outputs": [
    {
     "name": "stdout",
     "output_type": "stream",
     "text": [
      "xsum-1-1\n",
      "<pad> A charity has been a \"sappoint\" offenders in Wales.</s>\n",
      "61.9 ms ± 1.81 ms per loop (mean ± std. dev. of 7 runs, 10 loops each)\n",
      "48.7 ms ± 2.11 ms per loop (mean ± std. dev. of 7 runs, 10 loops each)\n",
      "32 ms ± 1.25 ms per loop (mean ± std. dev. of 7 runs, 10 loops each)\n"
     ]
    }
   ],
   "source": [
    "print(\"xsum-1-1\")\n",
    "model = AutoModelForSeq2SeqLM.from_pretrained('spacemanidol/flan-t5-small-1-1-xsum').to('cuda')\n",
    "outputs = model.generate(input_ids_1)\n",
    "print(tokenizer.decode(outputs[0]))\n",
    "%timeit model.generate(input_ids_16)\n",
    "%timeit model.generate(input_ids_8)\n",
    "%timeit model.generate(input_ids_1)"
   ]
  }
 ],
 "metadata": {
  "kernelspec": {
   "display_name": "Python 3",
   "language": "python",
   "name": "python3"
  },
  "language_info": {
   "codemirror_mode": {
    "name": "ipython",
    "version": 3
   },
   "file_extension": ".py",
   "mimetype": "text/x-python",
   "name": "python",
   "nbconvert_exporter": "python",
   "pygments_lexer": "ipython3",
   "version": "3.8.10"
  }
 },
 "nbformat": 4,
 "nbformat_minor": 5
}
